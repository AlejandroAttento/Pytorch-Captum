{
 "metadata": {
  "language_info": {
   "codemirror_mode": {
    "name": "ipython",
    "version": 3
   },
   "file_extension": ".py",
   "mimetype": "text/x-python",
   "name": "python",
   "nbconvert_exporter": "python",
   "pygments_lexer": "ipython3",
   "version": "3.8.5-final"
  },
  "orig_nbformat": 2,
  "kernelspec": {
   "name": "python3",
   "display_name": "Python 3.8.5 64-bit (conda)",
   "metadata": {
    "interpreter": {
     "hash": "b3ba2566441a7c06988d0923437866b63cedc61552a5af99d1f4fb67d367b25f"
    }
   }
  }
 },
 "nbformat": 4,
 "nbformat_minor": 2,
 "cells": [
  {
   "source": [
    "# POC Explained IA using pytorch and captum"
   ],
   "cell_type": "markdown",
   "metadata": {}
  },
  {
   "source": [
    "## Load libraries"
   ],
   "cell_type": "markdown",
   "metadata": {}
  },
  {
   "cell_type": "code",
   "execution_count": 1,
   "metadata": {},
   "outputs": [],
   "source": [
    "# Our ML things\n",
    "import torch\n",
    "import torch.nn as nn\n",
    "import torch.nn.functional as F\n",
    "\n",
    "from captum.attr import IntegratedGradients # Most popular atribution methode\n",
    "\n",
    "# Visualization\n",
    "import plotly.graph_objects as go\n",
    "\n",
    "# Utils\n",
    "import pandas as pd\n",
    "import numpy as np\n",
    "import multiprocessing\n",
    "import random\n",
    "\n",
    "import datetime\n",
    "import time\n",
    "\n",
    "from sklearn.metrics import classification_report\n",
    "from sklearn.preprocessing import OneHotEncoder, StandardScaler\n",
    "from sklearn.model_selection import train_test_split\n",
    "from sklearn.metrics import confusion_matrix, f1_score, precision_score, recall_score, accuracy_score, auc\n",
    "from torch.utils.data import DataLoader\n",
    "import json\n",
    "\n",
    "# Custom\n",
    "from tool_box.deviceHandler import deviceHandler\n",
    "from tool_box.model import simpleDenseNN\n",
    "from tool_box.utilities import createDataLoader, listSplitter, type_converter, secondsConverter, createLog\n",
    "\n",
    "run_timestamp = datetime.datetime.now()"
   ]
  },
  {
   "source": [
    "## Set up processing device"
   ],
   "cell_type": "markdown",
   "metadata": {}
  },
  {
   "cell_type": "code",
   "execution_count": 2,
   "metadata": {},
   "outputs": [
    {
     "output_type": "stream",
     "name": "stdout",
     "text": [
      "GPU isn't available, fallback to CPU\n"
     ]
    }
   ],
   "source": [
    "device_handler = deviceHandler()"
   ]
  },
  {
   "source": [
    "## Process data"
   ],
   "cell_type": "markdown",
   "metadata": {}
  },
  {
   "source": [
    "### Load data"
   ],
   "cell_type": "markdown",
   "metadata": {}
  },
  {
   "cell_type": "code",
   "execution_count": 3,
   "metadata": {},
   "outputs": [],
   "source": [
    "titanic_dataset = pd.read_csv('titanic_dataset.csv')"
   ]
  },
  {
   "source": [
    "### Simple data processing"
   ],
   "cell_type": "markdown",
   "metadata": {}
  },
  {
   "cell_type": "code",
   "execution_count": 4,
   "metadata": {},
   "outputs": [],
   "source": [
    "# Get dummies for categorical variables\n",
    "sex_dummies = pd.get_dummies(titanic_dataset.Sex, prefix='Sex')\n",
    "embarked_dummies = pd.get_dummies(titanic_dataset.Embarked, prefix='Embarked')\n",
    "pclass_dummies = pd.get_dummies(titanic_dataset.Pclass.astype(str), prefix='Pclass')\n",
    "\n",
    "# Fill NaNs\n",
    "titanic_dataset.Age = titanic_dataset.Age.fillna(round(titanic_dataset.Age.mean(), 1))\n",
    "titanic_dataset.Fare = titanic_dataset.Fare.fillna(round(titanic_dataset.Fare.mean(), 1))"
   ]
  },
  {
   "source": [
    "### Create features and target datasets"
   ],
   "cell_type": "markdown",
   "metadata": {}
  },
  {
   "cell_type": "code",
   "execution_count": 5,
   "metadata": {},
   "outputs": [],
   "source": [
    "features_df = pd.concat([titanic_dataset[['Age', 'SibSp', 'Parch', 'Fare']], pclass_dummies, sex_dummies, embarked_dummies], axis=1)\n",
    "target_df = titanic_dataset.Survived"
   ]
  },
  {
   "source": [
    "### Scale data"
   ],
   "cell_type": "markdown",
   "metadata": {}
  },
  {
   "cell_type": "code",
   "execution_count": 6,
   "metadata": {},
   "outputs": [],
   "source": [
    "scaler = StandardScaler()\n",
    "s_features_df = scaler.fit_transform(features_df)"
   ]
  },
  {
   "source": [
    "### Transform into tuple list of pytorch tensors"
   ],
   "cell_type": "markdown",
   "metadata": {}
  },
  {
   "cell_type": "code",
   "execution_count": 7,
   "metadata": {},
   "outputs": [],
   "source": [
    "features_tensor = device_handler.data_to_tensor(s_features_df)\n",
    "target_tensor = device_handler.data_to_tensor(target_df).reshape(-1, 1)\n",
    "\n",
    "features_tensor = type_converter(features_tensor, torch.float32)\n",
    "target_tensor = type_converter(target_tensor, torch.float32)\n",
    "\n",
    "tuple_lst_data = list(zip(features_tensor, target_tensor))"
   ]
  },
  {
   "source": [
    "### Split data into test and training"
   ],
   "cell_type": "markdown",
   "metadata": {}
  },
  {
   "cell_type": "code",
   "execution_count": 8,
   "metadata": {},
   "outputs": [],
   "source": [
    "lst_splitter = listSplitter(0.3, shuffle = True)\n",
    "test_data, train_data = lst_splitter.split(tuple_lst_data)"
   ]
  },
  {
   "source": [
    "### Create Dataloader"
   ],
   "cell_type": "markdown",
   "metadata": {}
  },
  {
   "cell_type": "code",
   "execution_count": 9,
   "metadata": {},
   "outputs": [],
   "source": [
    "dataloader_gen = createDataLoader()\n",
    "\n",
    "test_loader = dataloader_gen.create(test_data, batch_size=50)\n",
    "train_loader = dataloader_gen.create(train_data, batch_size=50, shuffle = True)"
   ]
  },
  {
   "source": [
    "## Model"
   ],
   "cell_type": "markdown",
   "metadata": {}
  },
  {
   "source": [
    "### Define model parameters"
   ],
   "cell_type": "markdown",
   "metadata": {}
  },
  {
   "cell_type": "code",
   "execution_count": 10,
   "metadata": {},
   "outputs": [],
   "source": [
    "simple_model = simpleDenseNN(features_tensor.shape[1], features_tensor.shape[1]*2+1, 1)\n",
    "\n",
    "opt = torch.optim.Adam(simple_model.parameters(), 1e-02)"
   ]
  },
  {
   "source": [
    "### Run model"
   ],
   "cell_type": "markdown",
   "metadata": {}
  },
  {
   "cell_type": "code",
   "execution_count": 11,
   "metadata": {
    "tags": [
     "outputPrepend"
    ]
   },
   "outputs": [
    {
     "output_type": "stream",
     "name": "stdout",
     "text": [
      "AINING\tLoss: 0.38165 | Accuracy: 86.12% | F1: 0.80 | Precision: 0.85 | Recall: 0.76\n",
      "TESTING\tLoss: 0.31680 | Accuracy: 89.11% | F1: 0.85 | Precision: 0.91 | Recall: 0.80\n",
      "\n",
      "15/03/2021 01:23:26 Message time: Epoch 22/100 processed - 0:01:28 time passed\n",
      "TRAINING\tLoss: 0.37056 | Accuracy: 86.21% | F1: 0.80 | Precision: 0.86 | Recall: 0.76\n",
      "TESTING\tLoss: 0.30960 | Accuracy: 90.11% | F1: 0.86 | Precision: 0.92 | Recall: 0.81\n",
      "\n",
      "15/03/2021 01:23:30 Message time: Epoch 23/100 processed - 0:01:32 time passed\n",
      "TRAINING\tLoss: 0.37761 | Accuracy: 84.95% | F1: 0.79 | Precision: 0.84 | Recall: 0.75\n",
      "TESTING\tLoss: 0.30998 | Accuracy: 89.36% | F1: 0.85 | Precision: 0.91 | Recall: 0.80\n",
      "\n",
      "15/03/2021 01:23:34 Message time: Epoch 24/100 processed - 0:01:36 time passed\n",
      "TRAINING\tLoss: 0.37938 | Accuracy: 85.18% | F1: 0.78 | Precision: 0.86 | Recall: 0.74\n",
      "TESTING\tLoss: 0.29931 | Accuracy: 89.86% | F1: 0.86 | Precision: 0.92 | Recall: 0.81\n",
      "\n",
      "15/03/2021 01:23:38 Message time: Epoch 25/100 processed - 0:01:40 time passed\n",
      "TRAINING\tLoss: 0.37227 | Accuracy: 85.28% | F1: 0.79 | Precision: 0.84 | Recall: 0.75\n",
      "TESTING\tLoss: 0.31502 | Accuracy: 89.61% | F1: 0.85 | Precision: 0.92 | Recall: 0.80\n",
      "\n",
      "15/03/2021 01:23:42 Message time: Epoch 26/100 processed - 0:01:44 time passed\n",
      "TRAINING\tLoss: 0.36993 | Accuracy: 85.59% | F1: 0.79 | Precision: 0.85 | Recall: 0.75\n",
      "TESTING\tLoss: 0.30525 | Accuracy: 89.86% | F1: 0.85 | Precision: 0.93 | Recall: 0.79\n",
      "\n",
      "15/03/2021 01:23:46 Message time: Epoch 27/100 processed - 0:01:48 time passed\n",
      "TRAINING\tLoss: 0.38302 | Accuracy: 85.50% | F1: 0.80 | Precision: 0.85 | Recall: 0.75\n",
      "TESTING\tLoss: 0.30888 | Accuracy: 89.86% | F1: 0.86 | Precision: 0.92 | Recall: 0.80\n",
      "\n",
      "15/03/2021 01:23:50 Message time: Epoch 28/100 processed - 0:01:52 time passed\n",
      "TRAINING\tLoss: 0.38144 | Accuracy: 84.97% | F1: 0.78 | Precision: 0.85 | Recall: 0.73\n",
      "TESTING\tLoss: 0.30931 | Accuracy: 89.36% | F1: 0.84 | Precision: 0.94 | Recall: 0.77\n",
      "\n",
      "15/03/2021 01:23:54 Message time: Epoch 29/100 processed - 0:01:56 time passed\n",
      "TRAINING\tLoss: 0.38512 | Accuracy: 84.97% | F1: 0.76 | Precision: 0.85 | Recall: 0.71\n",
      "TESTING\tLoss: 0.31070 | Accuracy: 90.11% | F1: 0.86 | Precision: 0.92 | Recall: 0.81\n",
      "\n",
      "15/03/2021 01:23:58 Message time: Epoch 30/100 processed - 0:02:00 time passed\n",
      "TRAINING\tLoss: 0.37743 | Accuracy: 84.76% | F1: 0.78 | Precision: 0.84 | Recall: 0.74\n",
      "TESTING\tLoss: 0.30144 | Accuracy: 89.36% | F1: 0.85 | Precision: 0.91 | Recall: 0.80\n",
      "\n",
      "15/03/2021 01:24:01 Message time: Epoch 31/100 processed - 0:02:03 time passed\n",
      "TRAINING\tLoss: 0.37514 | Accuracy: 85.07% | F1: 0.78 | Precision: 0.86 | Recall: 0.72\n",
      "TESTING\tLoss: 0.30979 | Accuracy: 90.36% | F1: 0.86 | Precision: 0.93 | Recall: 0.82\n",
      "\n",
      "15/03/2021 01:24:05 Message time: Epoch 32/100 processed - 0:02:07 time passed\n",
      "TRAINING\tLoss: 0.38915 | Accuracy: 84.87% | F1: 0.79 | Precision: 0.84 | Recall: 0.75\n",
      "TESTING\tLoss: 0.31064 | Accuracy: 89.11% | F1: 0.84 | Precision: 0.91 | Recall: 0.80\n",
      "\n",
      "15/03/2021 01:24:09 Message time: Epoch 33/100 processed - 0:02:11 time passed\n",
      "TRAINING\tLoss: 0.38230 | Accuracy: 84.76% | F1: 0.78 | Precision: 0.85 | Recall: 0.73\n",
      "TESTING\tLoss: 0.31190 | Accuracy: 90.36% | F1: 0.86 | Precision: 0.93 | Recall: 0.80\n",
      "\n",
      "15/03/2021 01:24:13 Message time: Epoch 34/100 processed - 0:02:15 time passed\n",
      "TRAINING\tLoss: 0.37174 | Accuracy: 85.70% | F1: 0.80 | Precision: 0.84 | Recall: 0.76\n",
      "TESTING\tLoss: 0.32746 | Accuracy: 90.36% | F1: 0.86 | Precision: 0.93 | Recall: 0.81\n",
      "\n",
      "15/03/2021 01:24:17 Message time: Epoch 35/100 processed - 0:02:19 time passed\n",
      "TRAINING\tLoss: 0.38033 | Accuracy: 84.76% | F1: 0.78 | Precision: 0.84 | Recall: 0.73\n",
      "TESTING\tLoss: 0.32034 | Accuracy: 89.36% | F1: 0.85 | Precision: 0.91 | Recall: 0.79\n",
      "\n",
      "15/03/2021 01:24:21 Message time: Epoch 36/100 processed - 0:02:23 time passed\n",
      "TRAINING\tLoss: 0.37032 | Accuracy: 85.28% | F1: 0.78 | Precision: 0.86 | Recall: 0.73\n",
      "TESTING\tLoss: 0.30727 | Accuracy: 89.31% | F1: 0.84 | Precision: 0.92 | Recall: 0.78\n",
      "\n",
      "15/03/2021 01:24:25 Message time: Epoch 37/100 processed - 0:02:27 time passed\n",
      "TRAINING\tLoss: 0.37900 | Accuracy: 85.69% | F1: 0.78 | Precision: 0.82 | Recall: 0.76\n",
      "TESTING\tLoss: 0.31300 | Accuracy: 88.61% | F1: 0.84 | Precision: 0.91 | Recall: 0.78\n",
      "\n",
      "15/03/2021 01:24:29 Message time: Epoch 38/100 processed - 0:02:31 time passed\n",
      "TRAINING\tLoss: 0.36515 | Accuracy: 84.64% | F1: 0.78 | Precision: 0.82 | Recall: 0.75\n",
      "TESTING\tLoss: 0.29503 | Accuracy: 89.61% | F1: 0.85 | Precision: 0.92 | Recall: 0.79\n",
      "\n",
      "15/03/2021 01:24:33 Message time: Epoch 39/100 processed - 0:02:35 time passed\n",
      "TRAINING\tLoss: 0.36097 | Accuracy: 85.69% | F1: 0.79 | Precision: 0.85 | Recall: 0.75\n",
      "TESTING\tLoss: 0.31027 | Accuracy: 89.56% | F1: 0.85 | Precision: 0.90 | Recall: 0.81\n",
      "\n",
      "15/03/2021 01:24:37 Message time: Epoch 40/100 processed - 0:02:39 time passed\n",
      "TRAINING\tLoss: 0.36904 | Accuracy: 85.70% | F1: 0.78 | Precision: 0.86 | Recall: 0.73\n",
      "TESTING\tLoss: 0.28887 | Accuracy: 89.61% | F1: 0.85 | Precision: 0.91 | Recall: 0.81\n",
      "\n",
      "15/03/2021 01:24:42 Message time: Epoch 41/100 processed - 0:02:44 time passed\n",
      "TRAINING\tLoss: 0.37035 | Accuracy: 86.12% | F1: 0.80 | Precision: 0.85 | Recall: 0.77\n",
      "TESTING\tLoss: 0.28789 | Accuracy: 89.61% | F1: 0.85 | Precision: 0.91 | Recall: 0.81\n",
      "\n",
      "15/03/2021 01:24:46 Message time: Epoch 42/100 processed - 0:02:48 time passed\n",
      "TRAINING\tLoss: 0.36743 | Accuracy: 86.11% | F1: 0.80 | Precision: 0.85 | Recall: 0.77\n",
      "TESTING\tLoss: 0.30040 | Accuracy: 89.11% | F1: 0.84 | Precision: 0.91 | Recall: 0.79\n",
      "\n",
      "15/03/2021 01:24:50 Message time: Epoch 43/100 processed - 0:02:52 time passed\n",
      "TRAINING\tLoss: 0.36382 | Accuracy: 84.95% | F1: 0.78 | Precision: 0.83 | Recall: 0.75\n",
      "TESTING\tLoss: 0.28989 | Accuracy: 89.31% | F1: 0.84 | Precision: 0.92 | Recall: 0.78\n",
      "\n",
      "15/03/2021 01:24:54 Message time: Epoch 44/100 processed - 0:02:56 time passed\n",
      "TRAINING\tLoss: 0.38106 | Accuracy: 84.97% | F1: 0.78 | Precision: 0.84 | Recall: 0.74\n",
      "TESTING\tLoss: 0.30692 | Accuracy: 90.11% | F1: 0.86 | Precision: 0.93 | Recall: 0.80\n",
      "\n",
      "15/03/2021 01:24:58 Message time: Epoch 45/100 processed - 0:03:00 time passed\n",
      "TRAINING\tLoss: 0.37357 | Accuracy: 85.16% | F1: 0.78 | Precision: 0.85 | Recall: 0.74\n",
      "TESTING\tLoss: 0.31000 | Accuracy: 90.36% | F1: 0.86 | Precision: 0.92 | Recall: 0.81\n",
      "\n",
      "15/03/2021 01:25:02 Message time: Epoch 46/100 processed - 0:03:04 time passed\n",
      "TRAINING\tLoss: 0.38017 | Accuracy: 85.60% | F1: 0.78 | Precision: 0.84 | Recall: 0.74\n",
      "TESTING\tLoss: 0.30811 | Accuracy: 89.61% | F1: 0.85 | Precision: 0.93 | Recall: 0.79\n",
      "\n",
      "15/03/2021 01:25:06 Message time: Epoch 47/100 processed - 0:03:08 time passed\n",
      "TRAINING\tLoss: 0.38264 | Accuracy: 85.71% | F1: 0.79 | Precision: 0.87 | Recall: 0.73\n",
      "TESTING\tLoss: 0.30317 | Accuracy: 90.86% | F1: 0.86 | Precision: 0.95 | Recall: 0.80\n",
      "\n",
      "15/03/2021 01:25:10 Message time: Epoch 48/100 processed - 0:03:12 time passed\n",
      "TRAINING\tLoss: 0.37320 | Accuracy: 84.64% | F1: 0.76 | Precision: 0.84 | Recall: 0.71\n",
      "TESTING\tLoss: 0.31441 | Accuracy: 90.11% | F1: 0.86 | Precision: 0.92 | Recall: 0.81\n",
      "\n",
      "15/03/2021 01:25:14 Message time: Epoch 49/100 processed - 0:03:16 time passed\n",
      "TRAINING\tLoss: 0.37349 | Accuracy: 85.69% | F1: 0.80 | Precision: 0.83 | Recall: 0.78\n",
      "TESTING\tLoss: 0.30612 | Accuracy: 89.86% | F1: 0.86 | Precision: 0.91 | Recall: 0.81\n",
      "\n",
      "15/03/2021 01:25:18 Message time: Epoch 50/100 processed - 0:03:20 time passed\n",
      "TRAINING\tLoss: 0.36419 | Accuracy: 85.18% | F1: 0.78 | Precision: 0.86 | Recall: 0.72\n",
      "TESTING\tLoss: 0.30741 | Accuracy: 90.11% | F1: 0.86 | Precision: 0.93 | Recall: 0.80\n",
      "\n",
      "15/03/2021 01:25:21 Message time: Epoch 51/100 processed - 0:03:24 time passed\n",
      "TRAINING\tLoss: 0.36323 | Accuracy: 85.69% | F1: 0.80 | Precision: 0.86 | Recall: 0.75\n",
      "TESTING\tLoss: 0.30785 | Accuracy: 89.86% | F1: 0.86 | Precision: 0.91 | Recall: 0.82\n",
      "\n",
      "15/03/2021 01:25:25 Message time: Epoch 52/100 processed - 0:03:28 time passed\n",
      "TRAINING\tLoss: 0.35512 | Accuracy: 85.59% | F1: 0.79 | Precision: 0.84 | Recall: 0.75\n",
      "TESTING\tLoss: 0.30599 | Accuracy: 89.36% | F1: 0.85 | Precision: 0.91 | Recall: 0.80\n",
      "\n",
      "15/03/2021 01:25:29 Message time: Epoch 53/100 processed - 0:03:31 time passed\n",
      "TRAINING\tLoss: 0.36528 | Accuracy: 86.01% | F1: 0.79 | Precision: 0.86 | Recall: 0.74\n",
      "TESTING\tLoss: 0.31342 | Accuracy: 89.61% | F1: 0.85 | Precision: 0.92 | Recall: 0.80\n",
      "\n",
      "15/03/2021 01:25:33 Message time: Epoch 54/100 processed - 0:03:35 time passed\n",
      "TRAINING\tLoss: 0.37237 | Accuracy: 85.27% | F1: 0.78 | Precision: 0.84 | Recall: 0.74\n",
      "TESTING\tLoss: 0.30909 | Accuracy: 88.86% | F1: 0.84 | Precision: 0.91 | Recall: 0.79\n",
      "\n",
      "15/03/2021 01:25:37 Message time: Epoch 55/100 processed - 0:03:39 time passed\n",
      "TRAINING\tLoss: 0.37780 | Accuracy: 84.45% | F1: 0.78 | Precision: 0.84 | Recall: 0.74\n",
      "TESTING\tLoss: 0.30687 | Accuracy: 89.86% | F1: 0.86 | Precision: 0.92 | Recall: 0.80\n",
      "\n",
      "15/03/2021 01:25:41 Message time: Epoch 56/100 processed - 0:03:43 time passed\n",
      "TRAINING\tLoss: 0.36844 | Accuracy: 85.80% | F1: 0.79 | Precision: 0.85 | Recall: 0.75\n",
      "TESTING\tLoss: 0.32746 | Accuracy: 88.81% | F1: 0.84 | Precision: 0.91 | Recall: 0.78\n",
      "\n",
      "15/03/2021 01:25:45 Message time: Epoch 57/100 processed - 0:03:47 time passed\n",
      "TRAINING\tLoss: 0.36886 | Accuracy: 85.39% | F1: 0.80 | Precision: 0.85 | Recall: 0.76\n",
      "TESTING\tLoss: 0.31642 | Accuracy: 89.36% | F1: 0.84 | Precision: 0.92 | Recall: 0.79\n",
      "\n",
      "15/03/2021 01:25:49 Message time: Epoch 58/100 processed - 0:03:51 time passed\n",
      "TRAINING\tLoss: 0.36205 | Accuracy: 84.86% | F1: 0.78 | Precision: 0.83 | Recall: 0.75\n",
      "TESTING\tLoss: 0.31700 | Accuracy: 89.11% | F1: 0.84 | Precision: 0.91 | Recall: 0.78\n",
      "\n",
      "15/03/2021 01:25:53 Message time: Epoch 59/100 processed - 0:03:55 time passed\n",
      "TRAINING\tLoss: 0.36634 | Accuracy: 85.18% | F1: 0.79 | Precision: 0.84 | Recall: 0.75\n",
      "TESTING\tLoss: 0.31276 | Accuracy: 89.56% | F1: 0.85 | Precision: 0.91 | Recall: 0.80\n",
      "\n",
      "15/03/2021 01:25:57 Message time: Epoch 60/100 processed - 0:03:59 time passed\n",
      "TRAINING\tLoss: 0.36998 | Accuracy: 85.80% | F1: 0.79 | Precision: 0.83 | Recall: 0.77\n",
      "TESTING\tLoss: 0.29720 | Accuracy: 89.81% | F1: 0.85 | Precision: 0.92 | Recall: 0.80\n",
      "\n",
      "15/03/2021 01:26:01 Message time: Epoch 61/100 processed - 0:04:03 time passed\n",
      "TRAINING\tLoss: 0.37592 | Accuracy: 85.29% | F1: 0.79 | Precision: 0.84 | Recall: 0.75\n",
      "TESTING\tLoss: 0.30355 | Accuracy: 89.56% | F1: 0.85 | Precision: 0.93 | Recall: 0.78\n",
      "\n",
      "15/03/2021 01:26:05 Message time: Epoch 62/100 processed - 0:04:07 time passed\n",
      "TRAINING\tLoss: 0.37351 | Accuracy: 85.18% | F1: 0.79 | Precision: 0.87 | Recall: 0.73\n",
      "TESTING\tLoss: 0.30693 | Accuracy: 89.36% | F1: 0.85 | Precision: 0.91 | Recall: 0.80\n",
      "\n",
      "15/03/2021 01:26:09 Message time: Epoch 63/100 processed - 0:04:11 time passed\n",
      "TRAINING\tLoss: 0.37837 | Accuracy: 85.60% | F1: 0.79 | Precision: 0.86 | Recall: 0.75\n",
      "TESTING\tLoss: 0.31509 | Accuracy: 90.11% | F1: 0.86 | Precision: 0.90 | Recall: 0.83\n",
      "\n",
      "15/03/2021 01:26:13 Message time: Epoch 64/100 processed - 0:04:15 time passed\n",
      "TRAINING\tLoss: 0.37301 | Accuracy: 84.77% | F1: 0.78 | Precision: 0.83 | Recall: 0.75\n",
      "TESTING\tLoss: 0.30908 | Accuracy: 89.56% | F1: 0.85 | Precision: 0.91 | Recall: 0.80\n",
      "\n",
      "15/03/2021 01:26:16 Message time: Epoch 65/100 processed - 0:04:19 time passed\n",
      "TRAINING\tLoss: 0.37485 | Accuracy: 85.90% | F1: 0.80 | Precision: 0.86 | Recall: 0.76\n",
      "TESTING\tLoss: 0.32333 | Accuracy: 88.86% | F1: 0.84 | Precision: 0.90 | Recall: 0.80\n",
      "\n",
      "15/03/2021 01:26:20 Message time: Epoch 66/100 processed - 0:04:22 time passed\n",
      "TRAINING\tLoss: 0.35943 | Accuracy: 86.42% | F1: 0.80 | Precision: 0.86 | Recall: 0.77\n",
      "TESTING\tLoss: 0.30480 | Accuracy: 90.36% | F1: 0.86 | Precision: 0.91 | Recall: 0.82\n",
      "\n",
      "15/03/2021 01:26:24 Message time: Epoch 67/100 processed - 0:04:26 time passed\n",
      "TRAINING\tLoss: 0.37525 | Accuracy: 85.09% | F1: 0.79 | Precision: 0.84 | Recall: 0.75\n",
      "TESTING\tLoss: 0.31725 | Accuracy: 89.81% | F1: 0.85 | Precision: 0.91 | Recall: 0.81\n",
      "\n",
      "15/03/2021 01:26:28 Message time: Epoch 68/100 processed - 0:04:30 time passed\n",
      "TRAINING\tLoss: 0.37917 | Accuracy: 84.34% | F1: 0.77 | Precision: 0.82 | Recall: 0.73\n",
      "TESTING\tLoss: 0.30075 | Accuracy: 90.36% | F1: 0.86 | Precision: 0.92 | Recall: 0.81\n",
      "\n",
      "15/03/2021 01:26:32 Message time: Epoch 69/100 processed - 0:04:34 time passed\n",
      "TRAINING\tLoss: 0.36056 | Accuracy: 85.91% | F1: 0.79 | Precision: 0.85 | Recall: 0.74\n",
      "TESTING\tLoss: 0.31441 | Accuracy: 89.61% | F1: 0.85 | Precision: 0.91 | Recall: 0.81\n",
      "\n",
      "15/03/2021 01:26:36 Message time: Epoch 70/100 processed - 0:04:38 time passed\n",
      "TRAINING\tLoss: 0.35633 | Accuracy: 85.29% | F1: 0.79 | Precision: 0.85 | Recall: 0.75\n",
      "TESTING\tLoss: 0.30120 | Accuracy: 89.65% | F1: 0.86 | Precision: 0.91 | Recall: 0.81\n",
      "\n",
      "15/03/2021 01:26:40 Message time: Epoch 71/100 processed - 0:04:42 time passed\n",
      "TRAINING\tLoss: 0.37296 | Accuracy: 85.70% | F1: 0.80 | Precision: 0.86 | Recall: 0.76\n",
      "TESTING\tLoss: 0.29968 | Accuracy: 89.11% | F1: 0.84 | Precision: 0.91 | Recall: 0.79\n",
      "\n",
      "15/03/2021 01:26:44 Message time: Epoch 72/100 processed - 0:04:46 time passed\n",
      "TRAINING\tLoss: 0.36577 | Accuracy: 85.07% | F1: 0.79 | Precision: 0.86 | Recall: 0.73\n",
      "TESTING\tLoss: 0.31800 | Accuracy: 89.86% | F1: 0.85 | Precision: 0.92 | Recall: 0.80\n",
      "\n",
      "15/03/2021 01:26:48 Message time: Epoch 73/100 processed - 0:04:50 time passed\n",
      "TRAINING\tLoss: 0.36517 | Accuracy: 85.48% | F1: 0.80 | Precision: 0.82 | Recall: 0.79\n",
      "TESTING\tLoss: 0.31195 | Accuracy: 91.11% | F1: 0.88 | Precision: 0.92 | Recall: 0.84\n",
      "\n",
      "15/03/2021 01:26:52 Message time: Epoch 74/100 processed - 0:04:54 time passed\n",
      "TRAINING\tLoss: 0.36905 | Accuracy: 85.91% | F1: 0.79 | Precision: 0.87 | Recall: 0.73\n",
      "TESTING\tLoss: 0.30965 | Accuracy: 89.06% | F1: 0.84 | Precision: 0.91 | Recall: 0.78\n",
      "\n",
      "15/03/2021 01:26:55 Message time: Epoch 75/100 processed - 0:04:58 time passed\n",
      "TRAINING\tLoss: 0.36036 | Accuracy: 85.70% | F1: 0.79 | Precision: 0.84 | Recall: 0.76\n",
      "TESTING\tLoss: 0.32190 | Accuracy: 88.86% | F1: 0.84 | Precision: 0.90 | Recall: 0.80\n",
      "\n",
      "15/03/2021 01:26:59 Message time: Epoch 76/100 processed - 0:05:01 time passed\n",
      "TRAINING\tLoss: 0.35453 | Accuracy: 85.91% | F1: 0.81 | Precision: 0.85 | Recall: 0.77\n",
      "TESTING\tLoss: 0.31686 | Accuracy: 90.61% | F1: 0.86 | Precision: 0.93 | Recall: 0.81\n",
      "\n",
      "15/03/2021 01:27:04 Message time: Epoch 77/100 processed - 0:05:06 time passed\n",
      "TRAINING\tLoss: 0.38058 | Accuracy: 84.87% | F1: 0.78 | Precision: 0.83 | Recall: 0.73\n",
      "TESTING\tLoss: 0.31583 | Accuracy: 88.36% | F1: 0.83 | Precision: 0.90 | Recall: 0.78\n",
      "\n",
      "15/03/2021 01:27:07 Message time: Epoch 78/100 processed - 0:05:09 time passed\n",
      "TRAINING\tLoss: 0.36812 | Accuracy: 84.87% | F1: 0.78 | Precision: 0.84 | Recall: 0.74\n",
      "TESTING\tLoss: 0.32389 | Accuracy: 89.31% | F1: 0.85 | Precision: 0.89 | Recall: 0.82\n",
      "\n",
      "15/03/2021 01:27:11 Message time: Epoch 79/100 processed - 0:05:13 time passed\n",
      "TRAINING\tLoss: 0.37631 | Accuracy: 84.97% | F1: 0.78 | Precision: 0.82 | Recall: 0.76\n",
      "TESTING\tLoss: 0.30621 | Accuracy: 88.86% | F1: 0.85 | Precision: 0.88 | Recall: 0.82\n",
      "\n",
      "15/03/2021 01:27:15 Message time: Epoch 80/100 processed - 0:05:17 time passed\n",
      "TRAINING\tLoss: 0.37341 | Accuracy: 85.29% | F1: 0.80 | Precision: 0.85 | Recall: 0.76\n",
      "TESTING\tLoss: 0.30900 | Accuracy: 90.15% | F1: 0.87 | Precision: 0.90 | Recall: 0.84\n",
      "\n",
      "15/03/2021 01:27:19 Message time: Epoch 81/100 processed - 0:05:21 time passed\n",
      "TRAINING\tLoss: 0.35960 | Accuracy: 86.33% | F1: 0.81 | Precision: 0.86 | Recall: 0.77\n",
      "TESTING\tLoss: 0.33041 | Accuracy: 90.81% | F1: 0.87 | Precision: 0.92 | Recall: 0.82\n",
      "\n",
      "15/03/2021 01:27:23 Message time: Epoch 82/100 processed - 0:05:25 time passed\n",
      "TRAINING\tLoss: 0.35295 | Accuracy: 85.89% | F1: 0.80 | Precision: 0.84 | Recall: 0.78\n",
      "TESTING\tLoss: 0.31877 | Accuracy: 88.86% | F1: 0.84 | Precision: 0.90 | Recall: 0.80\n",
      "\n",
      "15/03/2021 01:27:27 Message time: Epoch 83/100 processed - 0:05:29 time passed\n",
      "TRAINING\tLoss: 0.34215 | Accuracy: 86.53% | F1: 0.81 | Precision: 0.86 | Recall: 0.77\n",
      "TESTING\tLoss: 0.33217 | Accuracy: 89.61% | F1: 0.85 | Precision: 0.91 | Recall: 0.80\n",
      "\n",
      "15/03/2021 01:27:31 Message time: Epoch 84/100 processed - 0:05:33 time passed\n",
      "TRAINING\tLoss: 0.35479 | Accuracy: 85.59% | F1: 0.79 | Precision: 0.84 | Recall: 0.76\n",
      "TESTING\tLoss: 0.31924 | Accuracy: 89.36% | F1: 0.85 | Precision: 0.91 | Recall: 0.80\n",
      "\n",
      "15/03/2021 01:27:35 Message time: Epoch 85/100 processed - 0:05:37 time passed\n",
      "TRAINING\tLoss: 0.35838 | Accuracy: 86.32% | F1: 0.80 | Precision: 0.86 | Recall: 0.76\n",
      "TESTING\tLoss: 0.31446 | Accuracy: 89.36% | F1: 0.85 | Precision: 0.92 | Recall: 0.79\n",
      "\n",
      "15/03/2021 01:27:39 Message time: Epoch 86/100 processed - 0:05:41 time passed\n",
      "TRAINING\tLoss: 0.35455 | Accuracy: 85.90% | F1: 0.80 | Precision: 0.85 | Recall: 0.77\n",
      "TESTING\tLoss: 0.31381 | Accuracy: 88.61% | F1: 0.84 | Precision: 0.90 | Recall: 0.79\n",
      "\n",
      "15/03/2021 01:27:43 Message time: Epoch 87/100 processed - 0:05:45 time passed\n",
      "TRAINING\tLoss: 0.35811 | Accuracy: 85.80% | F1: 0.80 | Precision: 0.85 | Recall: 0.76\n",
      "TESTING\tLoss: 0.31474 | Accuracy: 89.86% | F1: 0.86 | Precision: 0.91 | Recall: 0.82\n",
      "\n",
      "15/03/2021 01:27:47 Message time: Epoch 88/100 processed - 0:05:49 time passed\n",
      "TRAINING\tLoss: 0.36467 | Accuracy: 85.70% | F1: 0.79 | Precision: 0.83 | Recall: 0.77\n",
      "TESTING\tLoss: 0.31085 | Accuracy: 89.86% | F1: 0.86 | Precision: 0.92 | Recall: 0.81\n",
      "\n",
      "15/03/2021 01:27:51 Message time: Epoch 89/100 processed - 0:05:53 time passed\n",
      "TRAINING\tLoss: 0.36344 | Accuracy: 85.17% | F1: 0.79 | Precision: 0.84 | Recall: 0.75\n",
      "TESTING\tLoss: 0.32665 | Accuracy: 89.36% | F1: 0.85 | Precision: 0.91 | Recall: 0.79\n",
      "\n",
      "15/03/2021 01:27:55 Message time: Epoch 90/100 processed - 0:05:57 time passed\n",
      "TRAINING\tLoss: 0.36046 | Accuracy: 85.60% | F1: 0.80 | Precision: 0.86 | Recall: 0.76\n",
      "TESTING\tLoss: 0.33840 | Accuracy: 90.86% | F1: 0.87 | Precision: 0.92 | Recall: 0.83\n",
      "\n",
      "15/03/2021 01:27:59 Message time: Epoch 91/100 processed - 0:06:01 time passed\n",
      "TRAINING\tLoss: 0.36374 | Accuracy: 85.91% | F1: 0.80 | Precision: 0.86 | Recall: 0.75\n",
      "TESTING\tLoss: 0.31944 | Accuracy: 88.86% | F1: 0.84 | Precision: 0.89 | Recall: 0.80\n",
      "\n",
      "15/03/2021 01:28:03 Message time: Epoch 92/100 processed - 0:06:05 time passed\n",
      "TRAINING\tLoss: 0.36496 | Accuracy: 84.96% | F1: 0.79 | Precision: 0.83 | Recall: 0.75\n",
      "TESTING\tLoss: 0.29812 | Accuracy: 88.31% | F1: 0.83 | Precision: 0.87 | Recall: 0.80\n",
      "\n",
      "15/03/2021 01:28:07 Message time: Epoch 93/100 processed - 0:06:09 time passed\n",
      "TRAINING\tLoss: 0.36335 | Accuracy: 85.50% | F1: 0.80 | Precision: 0.84 | Recall: 0.77\n",
      "TESTING\tLoss: 0.31295 | Accuracy: 90.11% | F1: 0.86 | Precision: 0.90 | Recall: 0.83\n",
      "\n",
      "15/03/2021 01:28:11 Message time: Epoch 94/100 processed - 0:06:13 time passed\n",
      "TRAINING\tLoss: 0.37449 | Accuracy: 84.66% | F1: 0.78 | Precision: 0.84 | Recall: 0.74\n",
      "TESTING\tLoss: 0.32953 | Accuracy: 88.61% | F1: 0.84 | Precision: 0.89 | Recall: 0.79\n",
      "\n",
      "15/03/2021 01:28:14 Message time: Epoch 95/100 processed - 0:06:16 time passed\n",
      "TRAINING\tLoss: 0.35953 | Accuracy: 85.39% | F1: 0.79 | Precision: 0.83 | Recall: 0.75\n",
      "TESTING\tLoss: 0.33033 | Accuracy: 88.86% | F1: 0.84 | Precision: 0.89 | Recall: 0.80\n",
      "\n",
      "15/03/2021 01:28:18 Message time: Epoch 96/100 processed - 0:06:20 time passed\n",
      "TRAINING\tLoss: 0.36351 | Accuracy: 85.17% | F1: 0.79 | Precision: 0.83 | Recall: 0.76\n",
      "TESTING\tLoss: 0.31980 | Accuracy: 89.56% | F1: 0.85 | Precision: 0.90 | Recall: 0.81\n",
      "\n",
      "15/03/2021 01:28:22 Message time: Epoch 97/100 processed - 0:06:24 time passed\n",
      "TRAINING\tLoss: 0.35928 | Accuracy: 85.18% | F1: 0.79 | Precision: 0.86 | Recall: 0.75\n",
      "TESTING\tLoss: 0.32087 | Accuracy: 88.76% | F1: 0.84 | Precision: 0.90 | Recall: 0.79\n",
      "\n",
      "15/03/2021 01:28:26 Message time: Epoch 98/100 processed - 0:06:28 time passed\n",
      "TRAINING\tLoss: 0.35442 | Accuracy: 85.79% | F1: 0.80 | Precision: 0.85 | Recall: 0.76\n",
      "TESTING\tLoss: 0.33834 | Accuracy: 89.11% | F1: 0.85 | Precision: 0.90 | Recall: 0.81\n",
      "\n",
      "15/03/2021 01:28:30 Message time: Epoch 99/100 processed - 0:06:32 time passed\n",
      "TRAINING\tLoss: 0.36663 | Accuracy: 85.49% | F1: 0.79 | Precision: 0.86 | Recall: 0.74\n",
      "TESTING\tLoss: 0.32101 | Accuracy: 89.61% | F1: 0.85 | Precision: 0.90 | Recall: 0.81\n",
      "\n",
      "15/03/2021 01:28:34 Message time: Epoch 100/100 processed - 0:06:36 time passed\n",
      "TRAINING\tLoss: 0.35633 | Accuracy: 85.48% | F1: 0.80 | Precision: 0.84 | Recall: 0.77\n",
      "TESTING\tLoss: 0.32375 | Accuracy: 90.11% | F1: 0.86 | Precision: 0.91 | Recall: 0.83\n",
      "\n"
     ]
    }
   ],
   "source": [
    "batch_cum = 0 \n",
    "epoch_amt = 100\n",
    "start_time_VAL = time.time()\n",
    "run_results = []\n",
    "model_DICT = {}\n",
    "\n",
    "for epoch in range(epoch_amt):\n",
    "  \n",
    "  train_loss = []\n",
    "  train_acc = []\n",
    "  train_f1 = []\n",
    "  train_prec = []\n",
    "  train_rec = []\n",
    "  train_auc = []\n",
    "  \n",
    "  for _i, batch in enumerate(train_loader):\n",
    "    \n",
    "    preds = simple_model.training_step(batch)\n",
    "    \n",
    "    train_loss.append(preds['loss'])\n",
    "    train_acc.append(preds['acc'])\n",
    "    train_f1.append(preds['f1'])\n",
    "    train_prec.append(preds['prec'])\n",
    "    train_rec.append(preds['rec'])\n",
    "    \n",
    "    preds['loss'].backward()\n",
    "    opt.step()\n",
    "    opt.zero_grad()\n",
    "    \n",
    "  validation_result = [simple_model.testing_step(batch) for batch in test_loader]\n",
    "  \n",
    "  epoch_train_loss = np.mean([val.item() for val in train_loss])\n",
    "  epoch_train_acc = np.mean([val.item() for val in train_acc])\n",
    "  epoch_train_f1 = np.mean([val.item() for val in train_f1])\n",
    "  epoch_train_prec = np.mean([val.item() for val in train_prec])\n",
    "  epoch_train_rec = np.mean([val.item() for val in train_rec])\n",
    "  \n",
    "  epoch_test_loss = np.mean([dic['loss'].item() for dic in validation_result])\n",
    "  epoch_test_acc = np.mean([dic['acc'].item() for dic in validation_result])\n",
    "  epoch_test_f1 = np.mean([dic['f1'].item() for dic in validation_result])\n",
    "  epoch_test_prec = np.mean([dic['prec'].item() for dic in validation_result])\n",
    "  epoch_test_rec = np.mean([dic['rec'].item() for dic in validation_result])\n",
    "  \n",
    "  epoch_results = {'run_id': run_timestamp.strftime('%Y%m%d%H%M%S'), 'calendar_dt': run_timestamp.strftime('%Y-%m-%d'),\\\n",
    "                   'training_cases': len(train_data), 'testing_cases': len(test_data), 'epoch': epoch+1, 'total_epochs': epoch_amt,\\\n",
    "                   'training_run' : {'loss': epoch_train_loss, 'accuracy': epoch_train_acc, 'f1': epoch_train_f1,\\\n",
    "                                     'precision': epoch_train_prec, 'recall': epoch_train_rec},\\\n",
    "                   'test_run' : {'loss': epoch_test_loss, 'accuracy': epoch_test_acc, 'f1': epoch_test_f1,\\\n",
    "                                 'precision': epoch_test_prec, 'recall': epoch_test_rec}}\n",
    "  \n",
    "  run_results.append(epoch_results)\n",
    "  \n",
    "  print('{} Message time: Epoch {}/{} processed - {} time passed'\\\n",
    "    .format(datetime.datetime.now().strftime(\"%d/%m/%Y %H:%M:%S\"), epoch+1, epoch_amt, secondsConverter(time.time()-start_time_VAL)))\n",
    "  \n",
    "  print('TRAINING\\tLoss: {:.5f} | Accuracy: {:.2f}% | F1: {:.2f} | Precision: {:.2f} | Recall: {:.2f}'\\\n",
    "    .format(epoch_train_loss.item(), epoch_train_acc * 100, epoch_train_f1, epoch_train_prec, epoch_train_rec))\n",
    "                 \n",
    "  print('TESTING\\t\\tLoss: {:.5f} | Accuracy: {:.2f}% | F1: {:.2f} | Precision: {:.2f} | Recall: {:.2f}'\\\n",
    "    .format(epoch_test_loss.item(), epoch_test_acc * 100, epoch_test_f1, epoch_test_prec, epoch_test_rec) + '\\n')"
   ]
  },
  {
   "source": [
    "### Save log file"
   ],
   "cell_type": "markdown",
   "metadata": {}
  },
  {
   "cell_type": "code",
   "execution_count": 14,
   "metadata": {},
   "outputs": [],
   "source": [
    "create_log = createLog(run_results, json = True, file_name = run_timestamp.strftime('%Y%m%d%H%M%S'))\n",
    "create_log.write()"
   ]
  },
  {
   "source": [
    "## Results"
   ],
   "cell_type": "markdown",
   "metadata": {}
  },
  {
   "source": [
    "### Process results"
   ],
   "cell_type": "markdown",
   "metadata": {}
  },
  {
   "cell_type": "code",
   "execution_count": 18,
   "metadata": {},
   "outputs": [],
   "source": [
    "results_df = pd.DataFrame(run_results)\n",
    "\n",
    "training_org_cols = [col for col in list(results_df['training_run'][0].keys())]\n",
    "test_org_cols = [col for col in list(results_df['test_run'][0].keys())]\n",
    "\n",
    "training_cols = ['train_' + col for col in list(results_df['training_run'][0].keys())]\n",
    "test_cols = ['test_' + col for col in list(results_df['test_run'][0].keys())]\n",
    "\n",
    "\n",
    "train_cols_dict = dict()\n",
    "test_cols_dict = dict()\n",
    "\n",
    "for _i in range(len(training_cols)):\n",
    "  train_cols_dict[training_org_cols[_i]] = training_cols[_i]\n",
    "  \n",
    "for _i in range(len(test_cols)):\n",
    "  test_cols_dict[test_org_cols[_i]] = test_cols[_i]\n",
    "  \n",
    "\n",
    "training_df = pd.DataFrame(list(results_df['training_run'])).rename(columns=train_cols_dict)\n",
    "testing_df = pd.DataFrame(list(results_df['test_run'])).rename(columns=test_cols_dict)\n",
    "\n",
    "formatted_results_df = pd.concat([results_df.drop(['training_run', 'test_run'], axis=1), training_df, testing_df], axis=1)"
   ]
  },
  {
   "source": [
    "### Graph loss"
   ],
   "cell_type": "markdown",
   "metadata": {}
  },
  {
   "cell_type": "code",
   "execution_count": 19,
   "metadata": {},
   "outputs": [
    {
     "output_type": "display_data",
     "data": {
      "application/vnd.plotly.v1+json": {
       "config": {
        "plotlyServerURL": "https://plot.ly"
       },
       "data": [
        {
         "line": {
          "color": "blue"
         },
         "mode": "lines+markers",
         "name": "Training",
         "type": "scatter",
         "x": [
          1,
          2,
          3,
          4,
          5,
          6,
          7,
          8,
          9,
          10,
          11,
          12,
          13,
          14,
          15,
          16,
          17,
          18,
          19,
          20,
          21,
          22,
          23,
          24,
          25,
          26,
          27,
          28,
          29,
          30,
          31,
          32,
          33,
          34,
          35,
          36,
          37,
          38,
          39,
          40,
          41,
          42,
          43,
          44,
          45,
          46,
          47,
          48,
          49,
          50,
          51,
          52,
          53,
          54,
          55,
          56,
          57,
          58,
          59,
          60,
          61,
          62,
          63,
          64,
          65,
          66,
          67,
          68,
          69,
          70,
          71,
          72,
          73,
          74,
          75,
          76,
          77,
          78,
          79,
          80,
          81,
          82,
          83,
          84,
          85,
          86,
          87,
          88,
          89,
          90,
          91,
          92,
          93,
          94,
          95,
          96,
          97,
          98,
          99,
          100
         ],
         "y": [
          0.5321965060736004,
          0.4175925756755628,
          0.41865104358447225,
          0.3928929802618529,
          0.3964962049534446,
          0.3851767699969442,
          0.39026919634718643,
          0.37939128593394633,
          0.3843746765663749,
          0.3927330053166339,
          0.3782447051060827,
          0.38490355014801025,
          0.39161860942840576,
          0.388952921879919,
          0.3943762120447661,
          0.383923697628473,
          0.3880270845011661,
          0.3836046284750888,
          0.37521874120360926,
          0.37640578260547236,
          0.38165117015964106,
          0.3705582273633857,
          0.37760817847753825,
          0.3793774780474211,
          0.3722682242330752,
          0.3699266581158889,
          0.3830229341983795,
          0.38144476790177195,
          0.38512194235073893,
          0.3774260721708599,
          0.37514254842933853,
          0.38915395893548665,
          0.38229925695218536,
          0.37173884322768763,
          0.38032508210132,
          0.3703244610836631,
          0.37899658319197205,
          0.36514599856577423,
          0.360972293897679,
          0.36903620707361323,
          0.37034587326802704,
          0.3674291686007851,
          0.3638200438336322,
          0.38105649697153193,
          0.3735732545978145,
          0.3801699092513637,
          0.3826423820696379,
          0.3731992825081474,
          0.3734929467502393,
          0.36419421277548136,
          0.3632294143501081,
          0.35511670457689387,
          0.36527736798713084,
          0.37236533588484716,
          0.37779937449254486,
          0.3684427738189697,
          0.3688623371877168,
          0.362054874238215,
          0.36633607745170593,
          0.36998103637444346,
          0.37592027924562754,
          0.3735130068502928,
          0.37837411227979156,
          0.3730127631049407,
          0.37484901986624064,
          0.35942833988290085,
          0.37525027990341187,
          0.3791689072784625,
          0.36055585741996765,
          0.3563265965173119,
          0.372957224908628,
          0.36576607195954575,
          0.36516858951041575,
          0.36905446805452047,
          0.36036279326991033,
          0.35452930158690404,
          0.3805782096950631,
          0.3681201558364065,
          0.3763096991338228,
          0.37341170875649704,
          0.3595991652262838,
          0.3529517219254845,
          0.342146330758145,
          0.35479279882029485,
          0.3583765500470212,
          0.3545477641256232,
          0.35811247794251694,
          0.36467013155159195,
          0.3634385529317354,
          0.3604615660090196,
          0.3637351456441377,
          0.3649619715778451,
          0.3633497890673186,
          0.3744881200162988,
          0.35953305818532644,
          0.3635055744334271,
          0.35927542024537135,
          0.3544195012042397,
          0.3666320215714605,
          0.3563336659418909
         ]
        },
        {
         "line": {
          "color": "red"
         },
         "mode": "lines+markers",
         "name": "Testing",
         "type": "scatter",
         "x": [
          1,
          2,
          3,
          4,
          5,
          6,
          7,
          8,
          9,
          10,
          11,
          12,
          13,
          14,
          15,
          16,
          17,
          18,
          19,
          20,
          21,
          22,
          23,
          24,
          25,
          26,
          27,
          28,
          29,
          30,
          31,
          32,
          33,
          34,
          35,
          36,
          37,
          38,
          39,
          40,
          41,
          42,
          43,
          44,
          45,
          46,
          47,
          48,
          49,
          50,
          51,
          52,
          53,
          54,
          55,
          56,
          57,
          58,
          59,
          60,
          61,
          62,
          63,
          64,
          65,
          66,
          67,
          68,
          69,
          70,
          71,
          72,
          73,
          74,
          75,
          76,
          77,
          78,
          79,
          80,
          81,
          82,
          83,
          84,
          85,
          86,
          87,
          88,
          89,
          90,
          91,
          92,
          93,
          94,
          95,
          96,
          97,
          98,
          99,
          100
         ],
         "y": [
          0.3624826930463314,
          0.3120790533721447,
          0.3144223354756832,
          0.32174587063491344,
          0.3095433674752712,
          0.3116003442555666,
          0.3204256687313318,
          0.31376360170543194,
          0.30249287374317646,
          0.30381239764392376,
          0.3082881513983011,
          0.3050410132855177,
          0.3105990681797266,
          0.31080967374145985,
          0.31040021777153015,
          0.32872452586889267,
          0.31235537491738796,
          0.31296619586646557,
          0.3010860923677683,
          0.3082423806190491,
          0.3167992662638426,
          0.3096018023788929,
          0.3099809419363737,
          0.29930591583251953,
          0.31502142921090126,
          0.3052475918084383,
          0.3088766001164913,
          0.3093109969049692,
          0.310699462890625,
          0.3014378398656845,
          0.30978570878505707,
          0.3106377348303795,
          0.3119003549218178,
          0.3274602573364973,
          0.3203367218375206,
          0.3072724435478449,
          0.31300470046699047,
          0.29503325559198856,
          0.3102655503898859,
          0.2888749781996012,
          0.28788573294878006,
          0.30039726942777634,
          0.28989001363515854,
          0.3069204334169626,
          0.3100031968206167,
          0.3081060890108347,
          0.3031675983220339,
          0.31440963223576546,
          0.3061159197241068,
          0.3074085973203182,
          0.3078532796353102,
          0.30599381402134895,
          0.3134215883910656,
          0.30908581241965294,
          0.3068726398050785,
          0.32745650969445705,
          0.31642426550388336,
          0.3170021325349808,
          0.3127604313194752,
          0.2972017005085945,
          0.30354584753513336,
          0.3069292400032282,
          0.3150921259075403,
          0.30908390134572983,
          0.3233331236988306,
          0.30480147153139114,
          0.3172511849552393,
          0.3007454965263605,
          0.31441079266369343,
          0.30120471864938736,
          0.29967697337269783,
          0.31799744069576263,
          0.3119512367993593,
          0.3096495755016804,
          0.3219013512134552,
          0.3168611191213131,
          0.3158270511776209,
          0.3238923382014036,
          0.3062081951647997,
          0.309003833681345,
          0.33041486144065857,
          0.31876812130212784,
          0.3321720827370882,
          0.319244297221303,
          0.3144556414335966,
          0.31380635499954224,
          0.3147419337183237,
          0.31084902584552765,
          0.3266467768698931,
          0.3384016193449497,
          0.31943631172180176,
          0.298116248100996,
          0.31295102275907993,
          0.3295253813266754,
          0.33032635785639286,
          0.3197989724576473,
          0.3208669815212488,
          0.3383379876613617,
          0.32100540585815907,
          0.32375121861696243
         ]
        }
       ],
       "layout": {
        "font": {
         "size": 15
        },
        "height": 600,
        "template": {
         "data": {
          "bar": [
           {
            "error_x": {
             "color": "#2a3f5f"
            },
            "error_y": {
             "color": "#2a3f5f"
            },
            "marker": {
             "line": {
              "color": "#E5ECF6",
              "width": 0.5
             }
            },
            "type": "bar"
           }
          ],
          "barpolar": [
           {
            "marker": {
             "line": {
              "color": "#E5ECF6",
              "width": 0.5
             }
            },
            "type": "barpolar"
           }
          ],
          "carpet": [
           {
            "aaxis": {
             "endlinecolor": "#2a3f5f",
             "gridcolor": "white",
             "linecolor": "white",
             "minorgridcolor": "white",
             "startlinecolor": "#2a3f5f"
            },
            "baxis": {
             "endlinecolor": "#2a3f5f",
             "gridcolor": "white",
             "linecolor": "white",
             "minorgridcolor": "white",
             "startlinecolor": "#2a3f5f"
            },
            "type": "carpet"
           }
          ],
          "choropleth": [
           {
            "colorbar": {
             "outlinewidth": 0,
             "ticks": ""
            },
            "type": "choropleth"
           }
          ],
          "contour": [
           {
            "colorbar": {
             "outlinewidth": 0,
             "ticks": ""
            },
            "colorscale": [
             [
              0,
              "#0d0887"
             ],
             [
              0.1111111111111111,
              "#46039f"
             ],
             [
              0.2222222222222222,
              "#7201a8"
             ],
             [
              0.3333333333333333,
              "#9c179e"
             ],
             [
              0.4444444444444444,
              "#bd3786"
             ],
             [
              0.5555555555555556,
              "#d8576b"
             ],
             [
              0.6666666666666666,
              "#ed7953"
             ],
             [
              0.7777777777777778,
              "#fb9f3a"
             ],
             [
              0.8888888888888888,
              "#fdca26"
             ],
             [
              1,
              "#f0f921"
             ]
            ],
            "type": "contour"
           }
          ],
          "contourcarpet": [
           {
            "colorbar": {
             "outlinewidth": 0,
             "ticks": ""
            },
            "type": "contourcarpet"
           }
          ],
          "heatmap": [
           {
            "colorbar": {
             "outlinewidth": 0,
             "ticks": ""
            },
            "colorscale": [
             [
              0,
              "#0d0887"
             ],
             [
              0.1111111111111111,
              "#46039f"
             ],
             [
              0.2222222222222222,
              "#7201a8"
             ],
             [
              0.3333333333333333,
              "#9c179e"
             ],
             [
              0.4444444444444444,
              "#bd3786"
             ],
             [
              0.5555555555555556,
              "#d8576b"
             ],
             [
              0.6666666666666666,
              "#ed7953"
             ],
             [
              0.7777777777777778,
              "#fb9f3a"
             ],
             [
              0.8888888888888888,
              "#fdca26"
             ],
             [
              1,
              "#f0f921"
             ]
            ],
            "type": "heatmap"
           }
          ],
          "heatmapgl": [
           {
            "colorbar": {
             "outlinewidth": 0,
             "ticks": ""
            },
            "colorscale": [
             [
              0,
              "#0d0887"
             ],
             [
              0.1111111111111111,
              "#46039f"
             ],
             [
              0.2222222222222222,
              "#7201a8"
             ],
             [
              0.3333333333333333,
              "#9c179e"
             ],
             [
              0.4444444444444444,
              "#bd3786"
             ],
             [
              0.5555555555555556,
              "#d8576b"
             ],
             [
              0.6666666666666666,
              "#ed7953"
             ],
             [
              0.7777777777777778,
              "#fb9f3a"
             ],
             [
              0.8888888888888888,
              "#fdca26"
             ],
             [
              1,
              "#f0f921"
             ]
            ],
            "type": "heatmapgl"
           }
          ],
          "histogram": [
           {
            "marker": {
             "colorbar": {
              "outlinewidth": 0,
              "ticks": ""
             }
            },
            "type": "histogram"
           }
          ],
          "histogram2d": [
           {
            "colorbar": {
             "outlinewidth": 0,
             "ticks": ""
            },
            "colorscale": [
             [
              0,
              "#0d0887"
             ],
             [
              0.1111111111111111,
              "#46039f"
             ],
             [
              0.2222222222222222,
              "#7201a8"
             ],
             [
              0.3333333333333333,
              "#9c179e"
             ],
             [
              0.4444444444444444,
              "#bd3786"
             ],
             [
              0.5555555555555556,
              "#d8576b"
             ],
             [
              0.6666666666666666,
              "#ed7953"
             ],
             [
              0.7777777777777778,
              "#fb9f3a"
             ],
             [
              0.8888888888888888,
              "#fdca26"
             ],
             [
              1,
              "#f0f921"
             ]
            ],
            "type": "histogram2d"
           }
          ],
          "histogram2dcontour": [
           {
            "colorbar": {
             "outlinewidth": 0,
             "ticks": ""
            },
            "colorscale": [
             [
              0,
              "#0d0887"
             ],
             [
              0.1111111111111111,
              "#46039f"
             ],
             [
              0.2222222222222222,
              "#7201a8"
             ],
             [
              0.3333333333333333,
              "#9c179e"
             ],
             [
              0.4444444444444444,
              "#bd3786"
             ],
             [
              0.5555555555555556,
              "#d8576b"
             ],
             [
              0.6666666666666666,
              "#ed7953"
             ],
             [
              0.7777777777777778,
              "#fb9f3a"
             ],
             [
              0.8888888888888888,
              "#fdca26"
             ],
             [
              1,
              "#f0f921"
             ]
            ],
            "type": "histogram2dcontour"
           }
          ],
          "mesh3d": [
           {
            "colorbar": {
             "outlinewidth": 0,
             "ticks": ""
            },
            "type": "mesh3d"
           }
          ],
          "parcoords": [
           {
            "line": {
             "colorbar": {
              "outlinewidth": 0,
              "ticks": ""
             }
            },
            "type": "parcoords"
           }
          ],
          "pie": [
           {
            "automargin": true,
            "type": "pie"
           }
          ],
          "scatter": [
           {
            "marker": {
             "colorbar": {
              "outlinewidth": 0,
              "ticks": ""
             }
            },
            "type": "scatter"
           }
          ],
          "scatter3d": [
           {
            "line": {
             "colorbar": {
              "outlinewidth": 0,
              "ticks": ""
             }
            },
            "marker": {
             "colorbar": {
              "outlinewidth": 0,
              "ticks": ""
             }
            },
            "type": "scatter3d"
           }
          ],
          "scattercarpet": [
           {
            "marker": {
             "colorbar": {
              "outlinewidth": 0,
              "ticks": ""
             }
            },
            "type": "scattercarpet"
           }
          ],
          "scattergeo": [
           {
            "marker": {
             "colorbar": {
              "outlinewidth": 0,
              "ticks": ""
             }
            },
            "type": "scattergeo"
           }
          ],
          "scattergl": [
           {
            "marker": {
             "colorbar": {
              "outlinewidth": 0,
              "ticks": ""
             }
            },
            "type": "scattergl"
           }
          ],
          "scattermapbox": [
           {
            "marker": {
             "colorbar": {
              "outlinewidth": 0,
              "ticks": ""
             }
            },
            "type": "scattermapbox"
           }
          ],
          "scatterpolar": [
           {
            "marker": {
             "colorbar": {
              "outlinewidth": 0,
              "ticks": ""
             }
            },
            "type": "scatterpolar"
           }
          ],
          "scatterpolargl": [
           {
            "marker": {
             "colorbar": {
              "outlinewidth": 0,
              "ticks": ""
             }
            },
            "type": "scatterpolargl"
           }
          ],
          "scatterternary": [
           {
            "marker": {
             "colorbar": {
              "outlinewidth": 0,
              "ticks": ""
             }
            },
            "type": "scatterternary"
           }
          ],
          "surface": [
           {
            "colorbar": {
             "outlinewidth": 0,
             "ticks": ""
            },
            "colorscale": [
             [
              0,
              "#0d0887"
             ],
             [
              0.1111111111111111,
              "#46039f"
             ],
             [
              0.2222222222222222,
              "#7201a8"
             ],
             [
              0.3333333333333333,
              "#9c179e"
             ],
             [
              0.4444444444444444,
              "#bd3786"
             ],
             [
              0.5555555555555556,
              "#d8576b"
             ],
             [
              0.6666666666666666,
              "#ed7953"
             ],
             [
              0.7777777777777778,
              "#fb9f3a"
             ],
             [
              0.8888888888888888,
              "#fdca26"
             ],
             [
              1,
              "#f0f921"
             ]
            ],
            "type": "surface"
           }
          ],
          "table": [
           {
            "cells": {
             "fill": {
              "color": "#EBF0F8"
             },
             "line": {
              "color": "white"
             }
            },
            "header": {
             "fill": {
              "color": "#C8D4E3"
             },
             "line": {
              "color": "white"
             }
            },
            "type": "table"
           }
          ]
         },
         "layout": {
          "annotationdefaults": {
           "arrowcolor": "#2a3f5f",
           "arrowhead": 0,
           "arrowwidth": 1
          },
          "autotypenumbers": "strict",
          "coloraxis": {
           "colorbar": {
            "outlinewidth": 0,
            "ticks": ""
           }
          },
          "colorscale": {
           "diverging": [
            [
             0,
             "#8e0152"
            ],
            [
             0.1,
             "#c51b7d"
            ],
            [
             0.2,
             "#de77ae"
            ],
            [
             0.3,
             "#f1b6da"
            ],
            [
             0.4,
             "#fde0ef"
            ],
            [
             0.5,
             "#f7f7f7"
            ],
            [
             0.6,
             "#e6f5d0"
            ],
            [
             0.7,
             "#b8e186"
            ],
            [
             0.8,
             "#7fbc41"
            ],
            [
             0.9,
             "#4d9221"
            ],
            [
             1,
             "#276419"
            ]
           ],
           "sequential": [
            [
             0,
             "#0d0887"
            ],
            [
             0.1111111111111111,
             "#46039f"
            ],
            [
             0.2222222222222222,
             "#7201a8"
            ],
            [
             0.3333333333333333,
             "#9c179e"
            ],
            [
             0.4444444444444444,
             "#bd3786"
            ],
            [
             0.5555555555555556,
             "#d8576b"
            ],
            [
             0.6666666666666666,
             "#ed7953"
            ],
            [
             0.7777777777777778,
             "#fb9f3a"
            ],
            [
             0.8888888888888888,
             "#fdca26"
            ],
            [
             1,
             "#f0f921"
            ]
           ],
           "sequentialminus": [
            [
             0,
             "#0d0887"
            ],
            [
             0.1111111111111111,
             "#46039f"
            ],
            [
             0.2222222222222222,
             "#7201a8"
            ],
            [
             0.3333333333333333,
             "#9c179e"
            ],
            [
             0.4444444444444444,
             "#bd3786"
            ],
            [
             0.5555555555555556,
             "#d8576b"
            ],
            [
             0.6666666666666666,
             "#ed7953"
            ],
            [
             0.7777777777777778,
             "#fb9f3a"
            ],
            [
             0.8888888888888888,
             "#fdca26"
            ],
            [
             1,
             "#f0f921"
            ]
           ]
          },
          "colorway": [
           "#636efa",
           "#EF553B",
           "#00cc96",
           "#ab63fa",
           "#FFA15A",
           "#19d3f3",
           "#FF6692",
           "#B6E880",
           "#FF97FF",
           "#FECB52"
          ],
          "font": {
           "color": "#2a3f5f"
          },
          "geo": {
           "bgcolor": "white",
           "lakecolor": "white",
           "landcolor": "#E5ECF6",
           "showlakes": true,
           "showland": true,
           "subunitcolor": "white"
          },
          "hoverlabel": {
           "align": "left"
          },
          "hovermode": "closest",
          "mapbox": {
           "style": "light"
          },
          "paper_bgcolor": "white",
          "plot_bgcolor": "#E5ECF6",
          "polar": {
           "angularaxis": {
            "gridcolor": "white",
            "linecolor": "white",
            "ticks": ""
           },
           "bgcolor": "#E5ECF6",
           "radialaxis": {
            "gridcolor": "white",
            "linecolor": "white",
            "ticks": ""
           }
          },
          "scene": {
           "xaxis": {
            "backgroundcolor": "#E5ECF6",
            "gridcolor": "white",
            "gridwidth": 2,
            "linecolor": "white",
            "showbackground": true,
            "ticks": "",
            "zerolinecolor": "white"
           },
           "yaxis": {
            "backgroundcolor": "#E5ECF6",
            "gridcolor": "white",
            "gridwidth": 2,
            "linecolor": "white",
            "showbackground": true,
            "ticks": "",
            "zerolinecolor": "white"
           },
           "zaxis": {
            "backgroundcolor": "#E5ECF6",
            "gridcolor": "white",
            "gridwidth": 2,
            "linecolor": "white",
            "showbackground": true,
            "ticks": "",
            "zerolinecolor": "white"
           }
          },
          "shapedefaults": {
           "line": {
            "color": "#2a3f5f"
           }
          },
          "ternary": {
           "aaxis": {
            "gridcolor": "white",
            "linecolor": "white",
            "ticks": ""
           },
           "baxis": {
            "gridcolor": "white",
            "linecolor": "white",
            "ticks": ""
           },
           "bgcolor": "#E5ECF6",
           "caxis": {
            "gridcolor": "white",
            "linecolor": "white",
            "ticks": ""
           }
          },
          "title": {
           "x": 0.05
          },
          "xaxis": {
           "automargin": true,
           "gridcolor": "white",
           "linecolor": "white",
           "ticks": "",
           "title": {
            "standoff": 15
           },
           "zerolinecolor": "white",
           "zerolinewidth": 2
          },
          "yaxis": {
           "automargin": true,
           "gridcolor": "white",
           "linecolor": "white",
           "ticks": "",
           "title": {
            "standoff": 15
           },
           "zerolinecolor": "white",
           "zerolinewidth": 2
          }
         }
        },
        "title": {
         "text": "Loss progression"
        },
        "width": 1300,
        "xaxis": {
         "title": {
          "text": "Epoch"
         }
        },
        "yaxis": {
         "title": {
          "text": "Loss"
         }
        }
       }
      }
     },
     "metadata": {}
    }
   ],
   "source": [
    "fig = go.Figure()\n",
    "fig.add_trace(go.Scatter(x=formatted_results_df['epoch'], y=formatted_results_df['train_loss'], name= 'Training', mode='lines+markers', line_color='blue'))\n",
    "fig.add_trace(go.Scatter(x=formatted_results_df['epoch'], y=formatted_results_df['test_loss'], name= 'Testing', mode='lines+markers', line_color='red'))\n",
    "fig.update_layout(\n",
    "    title=\"Loss progression\",\n",
    "    xaxis_title=\"Epoch\",\n",
    "    yaxis_title=\"Loss\",\n",
    "    font=dict(size=15),\n",
    "    width=1300, \n",
    "    height=600)\n",
    "fig.show()"
   ]
  },
  {
   "source": [
    "### Graph evaluation metrics"
   ],
   "cell_type": "markdown",
   "metadata": {}
  },
  {
   "cell_type": "code",
   "execution_count": 20,
   "metadata": {},
   "outputs": [
    {
     "output_type": "display_data",
     "data": {
      "application/vnd.plotly.v1+json": {
       "config": {
        "plotlyServerURL": "https://plot.ly"
       },
       "data": [
        {
         "line": {
          "color": "blue",
          "width": 2
         },
         "mode": "lines+markers",
         "name": "Training Accuracy",
         "opacity": 0.3,
         "type": "scatter",
         "x": [
          1,
          2,
          3,
          4,
          5,
          6,
          7,
          8,
          9,
          10,
          11,
          12,
          13,
          14,
          15,
          16,
          17,
          18,
          19,
          20,
          21,
          22,
          23,
          24,
          25,
          26,
          27,
          28,
          29,
          30,
          31,
          32,
          33,
          34,
          35,
          36,
          37,
          38,
          39,
          40,
          41,
          42,
          43,
          44,
          45,
          46,
          47,
          48,
          49,
          50,
          51,
          52,
          53,
          54,
          55,
          56,
          57,
          58,
          59,
          60,
          61,
          62,
          63,
          64,
          65,
          66,
          67,
          68,
          69,
          70,
          71,
          72,
          73,
          74,
          75,
          76,
          77,
          78,
          79,
          80,
          81,
          82,
          83,
          84,
          85,
          86,
          87,
          88,
          89,
          90,
          91,
          92,
          93,
          94,
          95,
          96,
          97,
          98,
          99,
          100
         ],
         "y": [
          0.7792569659442725,
          0.8307739938080495,
          0.8370897832817338,
          0.8330030959752321,
          0.8507120743034056,
          0.8495356037151702,
          0.848421052631579,
          0.8474303405572754,
          0.8444582043343652,
          0.8349226006191952,
          0.8537461300309598,
          0.8445201238390095,
          0.8413003095975232,
          0.8506501547987617,
          0.8422910216718267,
          0.8454489164086687,
          0.8465015479876162,
          0.8402476780185758,
          0.8475541795665635,
          0.8505882352941176,
          0.8611764705882351,
          0.8621052631578947,
          0.8494736842105264,
          0.851764705882353,
          0.8527554179566564,
          0.8558513931888545,
          0.8549845201238391,
          0.8497213622291021,
          0.8496594427244583,
          0.8475541795665635,
          0.8507120743034055,
          0.8486687306501548,
          0.8475541795665635,
          0.8570278637770898,
          0.8476160990712075,
          0.8528173374613003,
          0.8569040247678017,
          0.8464396284829722,
          0.8569040247678018,
          0.8570278637770897,
          0.8611764705882353,
          0.8610526315789473,
          0.8495356037151702,
          0.8496594427244583,
          0.851640866873065,
          0.8559752321981425,
          0.8570897832817338,
          0.8464396284829722,
          0.8569040247678018,
          0.851764705882353,
          0.8569040247678018,
          0.8558513931888545,
          0.860061919504644,
          0.8526934984520123,
          0.8444582043343652,
          0.8580185758513933,
          0.8538699690402478,
          0.848606811145511,
          0.851764705882353,
          0.8579566563467492,
          0.8529411764705883,
          0.851764705882353,
          0.8560371517027864,
          0.8477399380804953,
          0.8590092879256965,
          0.8642105263157895,
          0.8508978328173376,
          0.8434055727554179,
          0.8590712074303406,
          0.8528792569659442,
          0.8570278637770897,
          0.8507120743034056,
          0.854798761609907,
          0.8590712074303405,
          0.8569659442724458,
          0.8590712074303406,
          0.848668730650155,
          0.8486687306501548,
          0.849659442724458,
          0.8528792569659442,
          0.8633436532507741,
          0.8589473684210527,
          0.8652631578947367,
          0.8559133126934985,
          0.863219814241486,
          0.8590092879256965,
          0.8579566563467492,
          0.856965944272446,
          0.8517027863777088,
          0.8560371517027864,
          0.8590712074303405,
          0.8495975232198143,
          0.8549845201238391,
          0.8465634674922601,
          0.8538699690402476,
          0.851702786377709,
          0.851764705882353,
          0.8578947368421053,
          0.854922600619195,
          0.854798761609907
         ]
        },
        {
         "line": {
          "color": "red",
          "width": 2
         },
         "mode": "lines+markers",
         "name": "Training F1",
         "opacity": 0.3,
         "type": "scatter",
         "x": [
          1,
          2,
          3,
          4,
          5,
          6,
          7,
          8,
          9,
          10,
          11,
          12,
          13,
          14,
          15,
          16,
          17,
          18,
          19,
          20,
          21,
          22,
          23,
          24,
          25,
          26,
          27,
          28,
          29,
          30,
          31,
          32,
          33,
          34,
          35,
          36,
          37,
          38,
          39,
          40,
          41,
          42,
          43,
          44,
          45,
          46,
          47,
          48,
          49,
          50,
          51,
          52,
          53,
          54,
          55,
          56,
          57,
          58,
          59,
          60,
          61,
          62,
          63,
          64,
          65,
          66,
          67,
          68,
          69,
          70,
          71,
          72,
          73,
          74,
          75,
          76,
          77,
          78,
          79,
          80,
          81,
          82,
          83,
          84,
          85,
          86,
          87,
          88,
          89,
          90,
          91,
          92,
          93,
          94,
          95,
          96,
          97,
          98,
          99,
          100
         ],
         "y": [
          0.6304125639912068,
          0.7667089059289325,
          0.7665032412970677,
          0.7647371686120126,
          0.7881894495355303,
          0.7795300443407784,
          0.7813649420975376,
          0.7810041461979708,
          0.7747254930664078,
          0.7715923624418742,
          0.7820935084329684,
          0.7768518872576666,
          0.7760864631758707,
          0.7833190912926388,
          0.7711515559103592,
          0.7791447314779135,
          0.7810066993992255,
          0.7729467595911913,
          0.7758662311487035,
          0.7900835289622137,
          0.7975486339164872,
          0.8014290007458986,
          0.7863841694360357,
          0.7847361423627895,
          0.7863712604240861,
          0.7907280883820215,
          0.7969624443083433,
          0.7806773811827433,
          0.7619530785861963,
          0.7791287654800454,
          0.7825775978084867,
          0.7916402773589656,
          0.7780544025239658,
          0.7965695710709263,
          0.777078561701938,
          0.7811801439849004,
          0.7836129335710189,
          0.7824109836617795,
          0.7925612660732184,
          0.7773266813648378,
          0.8024937111429744,
          0.804656396201676,
          0.7846507724473263,
          0.7817539955515023,
          0.7804957720448773,
          0.7842268578980827,
          0.7857759259526436,
          0.763327937965738,
          0.7978165965875421,
          0.7840505630859811,
          0.7954601372090047,
          0.7898867990759421,
          0.7866835710948746,
          0.7833840085585105,
          0.7774286920691725,
          0.7915458361164222,
          0.7993974451178065,
          0.7834086316433411,
          0.7854693178606044,
          0.7878867330410794,
          0.7874790491760792,
          0.7858824907904645,
          0.7943968668565263,
          0.7831667001561581,
          0.7986040274202848,
          0.804061062770814,
          0.7928719419484738,
          0.7709002343273906,
          0.7861765992669856,
          0.7923434899640518,
          0.7982450635764733,
          0.7883766265355323,
          0.8018157113902137,
          0.7916841706436678,
          0.7939585823748335,
          0.8050108159083171,
          0.7786870783325509,
          0.7817273238817102,
          0.7847593231614141,
          0.7958516195411262,
          0.8088833719121322,
          0.8028399840897253,
          0.805945979708412,
          0.7913932974816984,
          0.8015728484600777,
          0.7968855832999299,
          0.7957795353018248,
          0.7913144599448483,
          0.7876900360316853,
          0.8031769298117558,
          0.8013820302320418,
          0.7852170461929365,
          0.7971710223508908,
          0.7813591473159409,
          0.7877275345125948,
          0.7940677041442715,
          0.7917979301919846,
          0.7955869538842745,
          0.7922944090874688,
          0.7988667524749412
         ]
        },
        {
         "line": {
          "color": "gold",
          "width": 2
         },
         "mode": "lines+markers",
         "name": "Training Precision",
         "opacity": 0.3,
         "type": "scatter",
         "x": [
          1,
          2,
          3,
          4,
          5,
          6,
          7,
          8,
          9,
          10,
          11,
          12,
          13,
          14,
          15,
          16,
          17,
          18,
          19,
          20,
          21,
          22,
          23,
          24,
          25,
          26,
          27,
          28,
          29,
          30,
          31,
          32,
          33,
          34,
          35,
          36,
          37,
          38,
          39,
          40,
          41,
          42,
          43,
          44,
          45,
          46,
          47,
          48,
          49,
          50,
          51,
          52,
          53,
          54,
          55,
          56,
          57,
          58,
          59,
          60,
          61,
          62,
          63,
          64,
          65,
          66,
          67,
          68,
          69,
          70,
          71,
          72,
          73,
          74,
          75,
          76,
          77,
          78,
          79,
          80,
          81,
          82,
          83,
          84,
          85,
          86,
          87,
          88,
          89,
          90,
          91,
          92,
          93,
          94,
          95,
          96,
          97,
          98,
          99,
          100
         ],
         "y": [
          0.7693194350331919,
          0.7908011626542668,
          0.8168940950328436,
          0.8165235504856726,
          0.8497313578460718,
          0.8401475407052945,
          0.8196285077965866,
          0.8235082271936598,
          0.8529167375000029,
          0.8066103344720749,
          0.8494570058424548,
          0.8427384277229479,
          0.8380175542958663,
          0.8463356459140232,
          0.8293823453355798,
          0.8460175006859054,
          0.8436239100803115,
          0.8332134888901225,
          0.8303163795269058,
          0.8283245244969215,
          0.8475395790818636,
          0.8602914825926886,
          0.8427853540734426,
          0.8578133128707514,
          0.8352053999748312,
          0.8465402459695806,
          0.8513326386737663,
          0.8504359576818326,
          0.8479443043827991,
          0.838332378066776,
          0.8598143817608256,
          0.8387496761743136,
          0.8478156048239681,
          0.8426947430206352,
          0.8367115211929453,
          0.8575408932403392,
          0.8220861643479089,
          0.8230990218117479,
          0.8522202968125243,
          0.8642768473447142,
          0.8513013659705854,
          0.8526744418201971,
          0.8333194883891478,
          0.8439632207524393,
          0.8497426192583684,
          0.8412420126519744,
          0.8669759359102687,
          0.8408431019580603,
          0.8316220738597306,
          0.8610290909459885,
          0.8567307630674168,
          0.8433897182064038,
          0.8571807933344515,
          0.8427262224566175,
          0.8396668373673495,
          0.8492240638859507,
          0.854249310156105,
          0.8288076861219276,
          0.838601711912032,
          0.8325014591574871,
          0.8409964413321633,
          0.8722301746377029,
          0.8553530741794549,
          0.8253196527821752,
          0.8601107452195118,
          0.8550333764057895,
          0.8411830755198851,
          0.82147249327349,
          0.8471297895104669,
          0.848236399823087,
          0.8567912622112557,
          0.8638312211026893,
          0.8240654555283039,
          0.8722221987090816,
          0.8426425140047431,
          0.8462270645797506,
          0.834516540208317,
          0.8388443393551753,
          0.8225384289727616,
          0.8530330031979861,
          0.8560075439304953,
          0.8409301827841016,
          0.8623777307641575,
          0.8398869355020924,
          0.8560775954351806,
          0.8533195742003152,
          0.8490071433896486,
          0.8338109057452172,
          0.8395792111858594,
          0.8624223532200628,
          0.8645149004852443,
          0.827000588217388,
          0.8367071305071212,
          0.8376194937808918,
          0.8340805705438263,
          0.8316941746447205,
          0.860187543992919,
          0.8475015971300801,
          0.8619403220030563,
          0.8367436333801256
         ]
        },
        {
         "line": {
          "color": "green",
          "width": 2
         },
         "mode": "lines+markers",
         "name": "Training Recall",
         "opacity": 0.3,
         "type": "scatter",
         "x": [
          1,
          2,
          3,
          4,
          5,
          6,
          7,
          8,
          9,
          10,
          11,
          12,
          13,
          14,
          15,
          16,
          17,
          18,
          19,
          20,
          21,
          22,
          23,
          24,
          25,
          26,
          27,
          28,
          29,
          30,
          31,
          32,
          33,
          34,
          35,
          36,
          37,
          38,
          39,
          40,
          41,
          42,
          43,
          44,
          45,
          46,
          47,
          48,
          49,
          50,
          51,
          52,
          53,
          54,
          55,
          56,
          57,
          58,
          59,
          60,
          61,
          62,
          63,
          64,
          65,
          66,
          67,
          68,
          69,
          70,
          71,
          72,
          73,
          74,
          75,
          76,
          77,
          78,
          79,
          80,
          81,
          82,
          83,
          84,
          85,
          86,
          87,
          88,
          89,
          90,
          91,
          92,
          93,
          94,
          95,
          96,
          97,
          98,
          99,
          100
         ],
         "y": [
          0.5520550983106862,
          0.7561198646464249,
          0.7341833255734858,
          0.7260619175237207,
          0.7436505598005516,
          0.7375195792310266,
          0.7520479978061752,
          0.7538219679432813,
          0.7267580614266079,
          0.7501120554923263,
          0.7327248318116254,
          0.7253338187220164,
          0.7316733146749406,
          0.7401552457668602,
          0.732996110838457,
          0.7334013665907346,
          0.7352375325204068,
          0.7344362753207714,
          0.7372764053373825,
          0.7661904644719149,
          0.7640010577897486,
          0.760557481026199,
          0.7512461875870389,
          0.7393030464848942,
          0.7509229921005316,
          0.7500977978757095,
          0.7532168695784256,
          0.730525735014899,
          0.7131346020770821,
          0.7386088254038179,
          0.7239056690417289,
          0.7549740300978691,
          0.7294525429854438,
          0.7616734363456137,
          0.7349413467517307,
          0.7296955400724591,
          0.7616702662977378,
          0.752214584174418,
          0.7481167267544976,
          0.7280165292782455,
          0.7664634878290822,
          0.7740128193772695,
          0.748745417736144,
          0.7403353010151758,
          0.7366848773981737,
          0.7427561012689705,
          0.7275476214506994,
          0.7073837399502821,
          0.776842520677049,
          0.7234298943136466,
          0.7506868364738659,
          0.7545883636758657,
          0.7367602514711994,
          0.7400887233860255,
          0.7407509875289062,
          0.7491225116403237,
          0.7639161786999917,
          0.7499480966037526,
          0.7465559418855003,
          0.7678510405326369,
          0.7475141629102634,
          0.7262479893522181,
          0.7512296826421416,
          0.7514301681241694,
          0.7588558774872546,
          0.7687542041878886,
          0.7549895642803415,
          0.7316465487094813,
          0.7428897838245806,
          0.7515552766897071,
          0.7563276593671349,
          0.7348765787362573,
          0.7907611656944817,
          0.7300022532450039,
          0.7598993468091987,
          0.774324389517339,
          0.733982250406399,
          0.7382725569290667,
          0.7574807762440156,
          0.7561665770430674,
          0.7730309867600605,
          0.7761192372525272,
          0.7651246396317277,
          0.7584305827943908,
          0.7592543296690275,
          0.7674816311426219,
          0.7559400337932903,
          0.7672896195651614,
          0.749799254133531,
          0.7595879841057522,
          0.7526231142167268,
          0.7540112699478025,
          0.7678955212766522,
          0.739612633147376,
          0.7542469683377293,
          0.7636520714759623,
          0.7487580159746845,
          0.7627955672066234,
          0.7447778299565038,
          0.7711538810795104
         ]
        },
        {
         "line": {
          "color": "blue",
          "width": 3
         },
         "mode": "lines+markers",
         "name": "Testing Accuracy",
         "type": "scatter",
         "x": [
          1,
          2,
          3,
          4,
          5,
          6,
          7,
          8,
          9,
          10,
          11,
          12,
          13,
          14,
          15,
          16,
          17,
          18,
          19,
          20,
          21,
          22,
          23,
          24,
          25,
          26,
          27,
          28,
          29,
          30,
          31,
          32,
          33,
          34,
          35,
          36,
          37,
          38,
          39,
          40,
          41,
          42,
          43,
          44,
          45,
          46,
          47,
          48,
          49,
          50,
          51,
          52,
          53,
          54,
          55,
          56,
          57,
          58,
          59,
          60,
          61,
          62,
          63,
          64,
          65,
          66,
          67,
          68,
          69,
          70,
          71,
          72,
          73,
          74,
          75,
          76,
          77,
          78,
          79,
          80,
          81,
          82,
          83,
          84,
          85,
          86,
          87,
          88,
          89,
          90,
          91,
          92,
          93,
          94,
          95,
          96,
          97,
          98,
          99,
          100
         ],
         "y": [
          0.886547619047619,
          0.8960714285714286,
          0.8930952380952382,
          0.8905952380952381,
          0.8855952380952381,
          0.8910714285714285,
          0.888095238095238,
          0.888095238095238,
          0.8805952380952381,
          0.8801190476190476,
          0.9010714285714285,
          0.8905952380952381,
          0.893095238095238,
          0.8860714285714286,
          0.883095238095238,
          0.8855952380952381,
          0.8960714285714286,
          0.8960714285714286,
          0.888095238095238,
          0.8935714285714286,
          0.8910714285714285,
          0.9010714285714285,
          0.8935714285714286,
          0.8985714285714286,
          0.8960714285714286,
          0.8985714285714286,
          0.8985714285714286,
          0.8935714285714286,
          0.9010714285714285,
          0.8935714285714286,
          0.9035714285714285,
          0.8910714285714286,
          0.9035714285714286,
          0.9035714285714286,
          0.8935714285714286,
          0.8930952380952382,
          0.8860714285714286,
          0.8960714285714286,
          0.8955952380952381,
          0.8960714285714286,
          0.8960714285714285,
          0.8910714285714285,
          0.8930952380952382,
          0.9010714285714285,
          0.9035714285714286,
          0.8960714285714286,
          0.9085714285714285,
          0.9010714285714285,
          0.8985714285714286,
          0.9010714285714286,
          0.8985714285714286,
          0.8935714285714286,
          0.8960714285714286,
          0.8885714285714286,
          0.8985714285714286,
          0.888095238095238,
          0.8935714285714286,
          0.8910714285714285,
          0.895595238095238,
          0.8980952380952381,
          0.8955952380952381,
          0.8935714285714286,
          0.9010714285714285,
          0.8955952380952381,
          0.8885714285714286,
          0.9035714285714286,
          0.8980952380952381,
          0.9035714285714286,
          0.8960714285714286,
          0.896547619047619,
          0.8910714285714285,
          0.8985714285714286,
          0.9110714285714285,
          0.8905952380952381,
          0.8885714285714286,
          0.9060714285714285,
          0.8835714285714287,
          0.893095238095238,
          0.8885714285714286,
          0.901547619047619,
          0.9080952380952381,
          0.8885714285714286,
          0.8960714285714286,
          0.8935714285714287,
          0.8935714285714286,
          0.8860714285714286,
          0.8985714285714286,
          0.8985714285714286,
          0.8935714285714286,
          0.9085714285714286,
          0.8885714285714286,
          0.883095238095238,
          0.9010714285714285,
          0.8860714285714286,
          0.8885714285714286,
          0.8955952380952381,
          0.8876190476190475,
          0.8910714285714285,
          0.8960714285714286,
          0.9010714285714285
         ]
        },
        {
         "line": {
          "color": "red",
          "width": 3
         },
         "mode": "lines+markers",
         "name": "Testing F1",
         "type": "scatter",
         "x": [
          1,
          2,
          3,
          4,
          5,
          6,
          7,
          8,
          9,
          10,
          11,
          12,
          13,
          14,
          15,
          16,
          17,
          18,
          19,
          20,
          21,
          22,
          23,
          24,
          25,
          26,
          27,
          28,
          29,
          30,
          31,
          32,
          33,
          34,
          35,
          36,
          37,
          38,
          39,
          40,
          41,
          42,
          43,
          44,
          45,
          46,
          47,
          48,
          49,
          50,
          51,
          52,
          53,
          54,
          55,
          56,
          57,
          58,
          59,
          60,
          61,
          62,
          63,
          64,
          65,
          66,
          67,
          68,
          69,
          70,
          71,
          72,
          73,
          74,
          75,
          76,
          77,
          78,
          79,
          80,
          81,
          82,
          83,
          84,
          85,
          86,
          87,
          88,
          89,
          90,
          91,
          92,
          93,
          94,
          95,
          96,
          97,
          98,
          99,
          100
         ],
         "y": [
          0.8459396774424986,
          0.8576722458391406,
          0.8478069400736744,
          0.8454553901075552,
          0.8372947681477627,
          0.8440483310549101,
          0.8388668802461906,
          0.8392728981544771,
          0.8266120636186427,
          0.8312989905872447,
          0.8586220595949519,
          0.8412240823285535,
          0.8492233587915857,
          0.8390463402527031,
          0.8310840543816149,
          0.8354687366297273,
          0.8564764532315684,
          0.8494272296903875,
          0.8429951706267496,
          0.8485951611405332,
          0.8460750341083347,
          0.8590689539218952,
          0.8463700037376862,
          0.8579442890241438,
          0.8500291846333803,
          0.8531384307700097,
          0.8566061842377632,
          0.8399477562421259,
          0.8586125862441651,
          0.8488906541538122,
          0.8647161242843513,
          0.8441711299548829,
          0.8591658655918142,
          0.8624427655677656,
          0.847310610783503,
          0.8417230167230167,
          0.836605482551015,
          0.8521670082869593,
          0.8495235694218828,
          0.8509476817042607,
          0.8527718304487815,
          0.8428478903324104,
          0.841953257084836,
          0.8575529003160582,
          0.8623021972867175,
          0.8497209532093253,
          0.8633592284908074,
          0.8585505223294121,
          0.8588562882198959,
          0.858924203777145,
          0.8573953073953074,
          0.8487782665414245,
          0.8544788455432205,
          0.841109299554832,
          0.8552708152553354,
          0.8363434352265442,
          0.8449504700665691,
          0.841747557852029,
          0.8493401743855465,
          0.8530347556663347,
          0.8451030633596424,
          0.8466462065006777,
          0.860377627644362,
          0.8499864333745913,
          0.8440633036117772,
          0.8623212722350654,
          0.8506522955052367,
          0.8624429624429625,
          0.8542991349358291,
          0.855817105862478,
          0.8421195290777335,
          0.8544990106189617,
          0.875003490987635,
          0.8414616085668718,
          0.8429870514325839,
          0.8632442119284225,
          0.8328690018798912,
          0.8498008774683243,
          0.8464878847553364,
          0.8665265548005486,
          0.8672716833360583,
          0.8423353640040955,
          0.8510537263687239,
          0.8484133083978286,
          0.8460069861385651,
          0.8392292016046075,
          0.8581699532965884,
          0.8559006234993077,
          0.845954171927064,
          0.8695419431892539,
          0.8418138494276799,
          0.8331349181341795,
          0.86273448217113,
          0.8380308259873823,
          0.8426257534095063,
          0.851275285601911,
          0.8380541480386682,
          0.8486126704392959,
          0.8541803132607906,
          0.8632482089499394
         ]
        },
        {
         "line": {
          "color": "gold",
          "width": 3
         },
         "mode": "lines+markers",
         "name": "Testing Precision",
         "type": "scatter",
         "x": [
          1,
          2,
          3,
          4,
          5,
          6,
          7,
          8,
          9,
          10,
          11,
          12,
          13,
          14,
          15,
          16,
          17,
          18,
          19,
          20,
          21,
          22,
          23,
          24,
          25,
          26,
          27,
          28,
          29,
          30,
          31,
          32,
          33,
          34,
          35,
          36,
          37,
          38,
          39,
          40,
          41,
          42,
          43,
          44,
          45,
          46,
          47,
          48,
          49,
          50,
          51,
          52,
          53,
          54,
          55,
          56,
          57,
          58,
          59,
          60,
          61,
          62,
          63,
          64,
          65,
          66,
          67,
          68,
          69,
          70,
          71,
          72,
          73,
          74,
          75,
          76,
          77,
          78,
          79,
          80,
          81,
          82,
          83,
          84,
          85,
          86,
          87,
          88,
          89,
          90,
          91,
          92,
          93,
          94,
          95,
          96,
          97,
          98,
          99,
          100
         ],
         "y": [
          0.872906531033466,
          0.8915069603356217,
          0.8965891290726817,
          0.8911575814536341,
          0.8825979833719771,
          0.9117667055167056,
          0.8858139667350193,
          0.8992667055167055,
          0.889330808080808,
          0.8621692726133515,
          0.9252308455433456,
          0.9105406746031746,
          0.8975330483070421,
          0.894563943001443,
          0.8888655462184873,
          0.8892338107798634,
          0.8951754385964913,
          0.9284722222222221,
          0.8939084839327974,
          0.9095019746335535,
          0.9057860085820613,
          0.9172411743957796,
          0.9090706168831169,
          0.9193276752487278,
          0.916601755335308,
          0.929203216374269,
          0.9242753317588844,
          0.9352737905369484,
          0.9243980911028966,
          0.910591439056113,
          0.9252597639933167,
          0.9059027777777777,
          0.9342562134502923,
          0.9281992606935399,
          0.9146433792815372,
          0.9227044047283985,
          0.906476805465776,
          0.9230249631904044,
          0.9042594030365769,
          0.9127415458937198,
          0.910683014147688,
          0.9059430522047462,
          0.9215138517528223,
          0.9288548439864229,
          0.9248435135770663,
          0.9287596288515406,
          0.9484316852737905,
          0.9219818376068376,
          0.9148561507936508,
          0.9308112794713027,
          0.9056808783405987,
          0.9080908475983941,
          0.9164186507936508,
          0.9094859544695071,
          0.9175434198799137,
          0.9063527975292681,
          0.9171765206411946,
          0.9142812049062049,
          0.9114140082997348,
          0.9196557665414931,
          0.9305389420521,
          0.9098796526186232,
          0.9049903971886237,
          0.9116125194250194,
          0.9039001751172804,
          0.9103152056277056,
          0.9088045178505706,
          0.9246844148498561,
          0.9070878317588844,
          0.9103991038201564,
          0.9076583853238265,
          0.9237716687552214,
          0.9197019537480065,
          0.9145676219205631,
          0.9019201649958228,
          0.9271642959723454,
          0.8974558792815371,
          0.8862597765665559,
          0.8825431846079392,
          0.9020864810088208,
          0.9236899414869616,
          0.8971492763772175,
          0.914328944297017,
          0.9081768469103995,
          0.9193619595274007,
          0.8951921600286539,
          0.9110133636788048,
          0.9179501312241249,
          0.9118873907525223,
          0.9215826023391813,
          0.8865109032049822,
          0.8737118531623176,
          0.904344193817878,
          0.8948610603661755,
          0.8922385620915032,
          0.9033255836226037,
          0.896144517032675,
          0.8995151015798561,
          0.9033757328842469,
          0.9069909971564383
         ]
        },
        {
         "line": {
          "color": "green",
          "width": 3
         },
         "mode": "lines+markers",
         "name": "Testing Recall",
         "type": "scatter",
         "x": [
          1,
          2,
          3,
          4,
          5,
          6,
          7,
          8,
          9,
          10,
          11,
          12,
          13,
          14,
          15,
          16,
          17,
          18,
          19,
          20,
          21,
          22,
          23,
          24,
          25,
          26,
          27,
          28,
          29,
          30,
          31,
          32,
          33,
          34,
          35,
          36,
          37,
          38,
          39,
          40,
          41,
          42,
          43,
          44,
          45,
          46,
          47,
          48,
          49,
          50,
          51,
          52,
          53,
          54,
          55,
          56,
          57,
          58,
          59,
          60,
          61,
          62,
          63,
          64,
          65,
          66,
          67,
          68,
          69,
          70,
          71,
          72,
          73,
          74,
          75,
          76,
          77,
          78,
          79,
          80,
          81,
          82,
          83,
          84,
          85,
          86,
          87,
          88,
          89,
          90,
          91,
          92,
          93,
          94,
          95,
          96,
          97,
          98,
          99,
          100
         ],
         "y": [
          0.8238997113997114,
          0.8341720779220779,
          0.8079545454545455,
          0.8073863636363636,
          0.7987554112554112,
          0.7918109668109667,
          0.8046085858585859,
          0.7928030303030302,
          0.7775252525252525,
          0.8073863636363636,
          0.8073863636363636,
          0.7865530303030304,
          0.8094696969696971,
          0.7938943001443002,
          0.7858585858585858,
          0.7918109668109667,
          0.8273538961038962,
          0.7865530303030304,
          0.8011363636363636,
          0.8005681818181818,
          0.7987554112554112,
          0.8130681818181817,
          0.7990530303030303,
          0.8094696969696971,
          0.8008658008658008,
          0.7928030303030302,
          0.8014069264069263,
          0.7690205627705627,
          0.8068181818181819,
          0.7995761183261183,
          0.815422077922078,
          0.797790404040404,
          0.7981872294372294,
          0.8120761183261184,
          0.7925054112554113,
          0.7808261183261183,
          0.7798791486291486,
          0.7945887445887446,
          0.8086038961038962,
          0.8061237373737374,
          0.8065205627705627,
          0.7919372294372294,
          0.7808261183261183,
          0.8005681818181818,
          0.8127705627705628,
          0.7862554112554112,
          0.796672077922078,
          0.8065205627705627,
          0.814853896103896,
          0.8014069264069265,
          0.8190205627705628,
          0.8002705627705629,
          0.8034902597402598,
          0.7861291486291486,
          0.8047077922077922,
          0.7810966810966811,
          0.7898538961038961,
          0.784172077922078,
          0.8023538961038961,
          0.8023538961038961,
          0.7808261183261183,
          0.7963744588744589,
          0.8252705627705628,
          0.7995761183261183,
          0.7951569264069265,
          0.8245761183261184,
          0.8065205627705627,
          0.8127705627705628,
          0.8127705627705628,
          0.8115530303030303,
          0.7898538961038961,
          0.7987554112554112,
          0.8398538961038962,
          0.7834776334776334,
          0.7951569264069265,
          0.8103896103896104,
          0.7798791486291485,
          0.8190205627705628,
          0.8195887445887446,
          0.8359577922077922,
          0.8231872294372294,
          0.7990530303030303,
          0.7987554112554112,
          0.8008658008658008,
          0.7862554112554112,
          0.793073593073593,
          0.815422077922078,
          0.8058261183261184,
          0.7928030303030302,
          0.8273538961038961,
          0.8044372294372295,
          0.7984577922077922,
          0.8276244588744589,
          0.7926316738816739,
          0.8047348484848484,
          0.8112554112554112,
          0.7904220779220779,
          0.8070887445887446,
          0.8133387445887446,
          0.827922077922078
         ]
        }
       ],
       "layout": {
        "font": {
         "size": 15
        },
        "height": 600,
        "template": {
         "data": {
          "bar": [
           {
            "error_x": {
             "color": "#2a3f5f"
            },
            "error_y": {
             "color": "#2a3f5f"
            },
            "marker": {
             "line": {
              "color": "#E5ECF6",
              "width": 0.5
             }
            },
            "type": "bar"
           }
          ],
          "barpolar": [
           {
            "marker": {
             "line": {
              "color": "#E5ECF6",
              "width": 0.5
             }
            },
            "type": "barpolar"
           }
          ],
          "carpet": [
           {
            "aaxis": {
             "endlinecolor": "#2a3f5f",
             "gridcolor": "white",
             "linecolor": "white",
             "minorgridcolor": "white",
             "startlinecolor": "#2a3f5f"
            },
            "baxis": {
             "endlinecolor": "#2a3f5f",
             "gridcolor": "white",
             "linecolor": "white",
             "minorgridcolor": "white",
             "startlinecolor": "#2a3f5f"
            },
            "type": "carpet"
           }
          ],
          "choropleth": [
           {
            "colorbar": {
             "outlinewidth": 0,
             "ticks": ""
            },
            "type": "choropleth"
           }
          ],
          "contour": [
           {
            "colorbar": {
             "outlinewidth": 0,
             "ticks": ""
            },
            "colorscale": [
             [
              0,
              "#0d0887"
             ],
             [
              0.1111111111111111,
              "#46039f"
             ],
             [
              0.2222222222222222,
              "#7201a8"
             ],
             [
              0.3333333333333333,
              "#9c179e"
             ],
             [
              0.4444444444444444,
              "#bd3786"
             ],
             [
              0.5555555555555556,
              "#d8576b"
             ],
             [
              0.6666666666666666,
              "#ed7953"
             ],
             [
              0.7777777777777778,
              "#fb9f3a"
             ],
             [
              0.8888888888888888,
              "#fdca26"
             ],
             [
              1,
              "#f0f921"
             ]
            ],
            "type": "contour"
           }
          ],
          "contourcarpet": [
           {
            "colorbar": {
             "outlinewidth": 0,
             "ticks": ""
            },
            "type": "contourcarpet"
           }
          ],
          "heatmap": [
           {
            "colorbar": {
             "outlinewidth": 0,
             "ticks": ""
            },
            "colorscale": [
             [
              0,
              "#0d0887"
             ],
             [
              0.1111111111111111,
              "#46039f"
             ],
             [
              0.2222222222222222,
              "#7201a8"
             ],
             [
              0.3333333333333333,
              "#9c179e"
             ],
             [
              0.4444444444444444,
              "#bd3786"
             ],
             [
              0.5555555555555556,
              "#d8576b"
             ],
             [
              0.6666666666666666,
              "#ed7953"
             ],
             [
              0.7777777777777778,
              "#fb9f3a"
             ],
             [
              0.8888888888888888,
              "#fdca26"
             ],
             [
              1,
              "#f0f921"
             ]
            ],
            "type": "heatmap"
           }
          ],
          "heatmapgl": [
           {
            "colorbar": {
             "outlinewidth": 0,
             "ticks": ""
            },
            "colorscale": [
             [
              0,
              "#0d0887"
             ],
             [
              0.1111111111111111,
              "#46039f"
             ],
             [
              0.2222222222222222,
              "#7201a8"
             ],
             [
              0.3333333333333333,
              "#9c179e"
             ],
             [
              0.4444444444444444,
              "#bd3786"
             ],
             [
              0.5555555555555556,
              "#d8576b"
             ],
             [
              0.6666666666666666,
              "#ed7953"
             ],
             [
              0.7777777777777778,
              "#fb9f3a"
             ],
             [
              0.8888888888888888,
              "#fdca26"
             ],
             [
              1,
              "#f0f921"
             ]
            ],
            "type": "heatmapgl"
           }
          ],
          "histogram": [
           {
            "marker": {
             "colorbar": {
              "outlinewidth": 0,
              "ticks": ""
             }
            },
            "type": "histogram"
           }
          ],
          "histogram2d": [
           {
            "colorbar": {
             "outlinewidth": 0,
             "ticks": ""
            },
            "colorscale": [
             [
              0,
              "#0d0887"
             ],
             [
              0.1111111111111111,
              "#46039f"
             ],
             [
              0.2222222222222222,
              "#7201a8"
             ],
             [
              0.3333333333333333,
              "#9c179e"
             ],
             [
              0.4444444444444444,
              "#bd3786"
             ],
             [
              0.5555555555555556,
              "#d8576b"
             ],
             [
              0.6666666666666666,
              "#ed7953"
             ],
             [
              0.7777777777777778,
              "#fb9f3a"
             ],
             [
              0.8888888888888888,
              "#fdca26"
             ],
             [
              1,
              "#f0f921"
             ]
            ],
            "type": "histogram2d"
           }
          ],
          "histogram2dcontour": [
           {
            "colorbar": {
             "outlinewidth": 0,
             "ticks": ""
            },
            "colorscale": [
             [
              0,
              "#0d0887"
             ],
             [
              0.1111111111111111,
              "#46039f"
             ],
             [
              0.2222222222222222,
              "#7201a8"
             ],
             [
              0.3333333333333333,
              "#9c179e"
             ],
             [
              0.4444444444444444,
              "#bd3786"
             ],
             [
              0.5555555555555556,
              "#d8576b"
             ],
             [
              0.6666666666666666,
              "#ed7953"
             ],
             [
              0.7777777777777778,
              "#fb9f3a"
             ],
             [
              0.8888888888888888,
              "#fdca26"
             ],
             [
              1,
              "#f0f921"
             ]
            ],
            "type": "histogram2dcontour"
           }
          ],
          "mesh3d": [
           {
            "colorbar": {
             "outlinewidth": 0,
             "ticks": ""
            },
            "type": "mesh3d"
           }
          ],
          "parcoords": [
           {
            "line": {
             "colorbar": {
              "outlinewidth": 0,
              "ticks": ""
             }
            },
            "type": "parcoords"
           }
          ],
          "pie": [
           {
            "automargin": true,
            "type": "pie"
           }
          ],
          "scatter": [
           {
            "marker": {
             "colorbar": {
              "outlinewidth": 0,
              "ticks": ""
             }
            },
            "type": "scatter"
           }
          ],
          "scatter3d": [
           {
            "line": {
             "colorbar": {
              "outlinewidth": 0,
              "ticks": ""
             }
            },
            "marker": {
             "colorbar": {
              "outlinewidth": 0,
              "ticks": ""
             }
            },
            "type": "scatter3d"
           }
          ],
          "scattercarpet": [
           {
            "marker": {
             "colorbar": {
              "outlinewidth": 0,
              "ticks": ""
             }
            },
            "type": "scattercarpet"
           }
          ],
          "scattergeo": [
           {
            "marker": {
             "colorbar": {
              "outlinewidth": 0,
              "ticks": ""
             }
            },
            "type": "scattergeo"
           }
          ],
          "scattergl": [
           {
            "marker": {
             "colorbar": {
              "outlinewidth": 0,
              "ticks": ""
             }
            },
            "type": "scattergl"
           }
          ],
          "scattermapbox": [
           {
            "marker": {
             "colorbar": {
              "outlinewidth": 0,
              "ticks": ""
             }
            },
            "type": "scattermapbox"
           }
          ],
          "scatterpolar": [
           {
            "marker": {
             "colorbar": {
              "outlinewidth": 0,
              "ticks": ""
             }
            },
            "type": "scatterpolar"
           }
          ],
          "scatterpolargl": [
           {
            "marker": {
             "colorbar": {
              "outlinewidth": 0,
              "ticks": ""
             }
            },
            "type": "scatterpolargl"
           }
          ],
          "scatterternary": [
           {
            "marker": {
             "colorbar": {
              "outlinewidth": 0,
              "ticks": ""
             }
            },
            "type": "scatterternary"
           }
          ],
          "surface": [
           {
            "colorbar": {
             "outlinewidth": 0,
             "ticks": ""
            },
            "colorscale": [
             [
              0,
              "#0d0887"
             ],
             [
              0.1111111111111111,
              "#46039f"
             ],
             [
              0.2222222222222222,
              "#7201a8"
             ],
             [
              0.3333333333333333,
              "#9c179e"
             ],
             [
              0.4444444444444444,
              "#bd3786"
             ],
             [
              0.5555555555555556,
              "#d8576b"
             ],
             [
              0.6666666666666666,
              "#ed7953"
             ],
             [
              0.7777777777777778,
              "#fb9f3a"
             ],
             [
              0.8888888888888888,
              "#fdca26"
             ],
             [
              1,
              "#f0f921"
             ]
            ],
            "type": "surface"
           }
          ],
          "table": [
           {
            "cells": {
             "fill": {
              "color": "#EBF0F8"
             },
             "line": {
              "color": "white"
             }
            },
            "header": {
             "fill": {
              "color": "#C8D4E3"
             },
             "line": {
              "color": "white"
             }
            },
            "type": "table"
           }
          ]
         },
         "layout": {
          "annotationdefaults": {
           "arrowcolor": "#2a3f5f",
           "arrowhead": 0,
           "arrowwidth": 1
          },
          "autotypenumbers": "strict",
          "coloraxis": {
           "colorbar": {
            "outlinewidth": 0,
            "ticks": ""
           }
          },
          "colorscale": {
           "diverging": [
            [
             0,
             "#8e0152"
            ],
            [
             0.1,
             "#c51b7d"
            ],
            [
             0.2,
             "#de77ae"
            ],
            [
             0.3,
             "#f1b6da"
            ],
            [
             0.4,
             "#fde0ef"
            ],
            [
             0.5,
             "#f7f7f7"
            ],
            [
             0.6,
             "#e6f5d0"
            ],
            [
             0.7,
             "#b8e186"
            ],
            [
             0.8,
             "#7fbc41"
            ],
            [
             0.9,
             "#4d9221"
            ],
            [
             1,
             "#276419"
            ]
           ],
           "sequential": [
            [
             0,
             "#0d0887"
            ],
            [
             0.1111111111111111,
             "#46039f"
            ],
            [
             0.2222222222222222,
             "#7201a8"
            ],
            [
             0.3333333333333333,
             "#9c179e"
            ],
            [
             0.4444444444444444,
             "#bd3786"
            ],
            [
             0.5555555555555556,
             "#d8576b"
            ],
            [
             0.6666666666666666,
             "#ed7953"
            ],
            [
             0.7777777777777778,
             "#fb9f3a"
            ],
            [
             0.8888888888888888,
             "#fdca26"
            ],
            [
             1,
             "#f0f921"
            ]
           ],
           "sequentialminus": [
            [
             0,
             "#0d0887"
            ],
            [
             0.1111111111111111,
             "#46039f"
            ],
            [
             0.2222222222222222,
             "#7201a8"
            ],
            [
             0.3333333333333333,
             "#9c179e"
            ],
            [
             0.4444444444444444,
             "#bd3786"
            ],
            [
             0.5555555555555556,
             "#d8576b"
            ],
            [
             0.6666666666666666,
             "#ed7953"
            ],
            [
             0.7777777777777778,
             "#fb9f3a"
            ],
            [
             0.8888888888888888,
             "#fdca26"
            ],
            [
             1,
             "#f0f921"
            ]
           ]
          },
          "colorway": [
           "#636efa",
           "#EF553B",
           "#00cc96",
           "#ab63fa",
           "#FFA15A",
           "#19d3f3",
           "#FF6692",
           "#B6E880",
           "#FF97FF",
           "#FECB52"
          ],
          "font": {
           "color": "#2a3f5f"
          },
          "geo": {
           "bgcolor": "white",
           "lakecolor": "white",
           "landcolor": "#E5ECF6",
           "showlakes": true,
           "showland": true,
           "subunitcolor": "white"
          },
          "hoverlabel": {
           "align": "left"
          },
          "hovermode": "closest",
          "mapbox": {
           "style": "light"
          },
          "paper_bgcolor": "white",
          "plot_bgcolor": "#E5ECF6",
          "polar": {
           "angularaxis": {
            "gridcolor": "white",
            "linecolor": "white",
            "ticks": ""
           },
           "bgcolor": "#E5ECF6",
           "radialaxis": {
            "gridcolor": "white",
            "linecolor": "white",
            "ticks": ""
           }
          },
          "scene": {
           "xaxis": {
            "backgroundcolor": "#E5ECF6",
            "gridcolor": "white",
            "gridwidth": 2,
            "linecolor": "white",
            "showbackground": true,
            "ticks": "",
            "zerolinecolor": "white"
           },
           "yaxis": {
            "backgroundcolor": "#E5ECF6",
            "gridcolor": "white",
            "gridwidth": 2,
            "linecolor": "white",
            "showbackground": true,
            "ticks": "",
            "zerolinecolor": "white"
           },
           "zaxis": {
            "backgroundcolor": "#E5ECF6",
            "gridcolor": "white",
            "gridwidth": 2,
            "linecolor": "white",
            "showbackground": true,
            "ticks": "",
            "zerolinecolor": "white"
           }
          },
          "shapedefaults": {
           "line": {
            "color": "#2a3f5f"
           }
          },
          "ternary": {
           "aaxis": {
            "gridcolor": "white",
            "linecolor": "white",
            "ticks": ""
           },
           "baxis": {
            "gridcolor": "white",
            "linecolor": "white",
            "ticks": ""
           },
           "bgcolor": "#E5ECF6",
           "caxis": {
            "gridcolor": "white",
            "linecolor": "white",
            "ticks": ""
           }
          },
          "title": {
           "x": 0.05
          },
          "xaxis": {
           "automargin": true,
           "gridcolor": "white",
           "linecolor": "white",
           "ticks": "",
           "title": {
            "standoff": 15
           },
           "zerolinecolor": "white",
           "zerolinewidth": 2
          },
          "yaxis": {
           "automargin": true,
           "gridcolor": "white",
           "linecolor": "white",
           "ticks": "",
           "title": {
            "standoff": 15
           },
           "zerolinecolor": "white",
           "zerolinewidth": 2
          }
         }
        },
        "title": {
         "text": "Evaluation metrics"
        },
        "width": 1300,
        "xaxis": {
         "title": {
          "text": "Epoch"
         }
        }
       }
      }
     },
     "metadata": {}
    }
   ],
   "source": [
    "fig = go.Figure()\n",
    "\n",
    "fig.add_trace(go.Scatter(x=formatted_results_df['epoch'], y=formatted_results_df['train_accuracy'], name= 'Training Accuracy',\\\n",
    "                         opacity=0.3, mode='lines+markers', line_color='blue', line_width= 2))\n",
    "fig.add_trace(go.Scatter(x=formatted_results_df['epoch'], y=formatted_results_df['train_f1'], name= 'Training F1',\\\n",
    "                         opacity=0.3, mode='lines+markers', line_color='red', line_width= 2))\n",
    "fig.add_trace(go.Scatter(x=formatted_results_df['epoch'], y=formatted_results_df['train_precision'], name= 'Training Precision',\\\n",
    "                         opacity=0.3, mode='lines+markers', line_color='gold', line_width= 2))\n",
    "fig.add_trace(go.Scatter(x=formatted_results_df['epoch'], y=formatted_results_df['train_recall'], name= 'Training Recall',\\\n",
    "                         opacity=0.3, mode='lines+markers', line_color='green', line_width= 2))\n",
    "\n",
    "fig.add_trace(go.Scatter(x=formatted_results_df['epoch'], y=formatted_results_df['test_accuracy'], name= 'Testing Accuracy',\\\n",
    "                         mode='lines+markers', line_color='blue', line_width= 3))\n",
    "fig.add_trace(go.Scatter(x=formatted_results_df['epoch'], y=formatted_results_df['test_f1'], name= 'Testing F1',\\\n",
    "                         mode='lines+markers', line_color='red', line_width= 3))\n",
    "fig.add_trace(go.Scatter(x=formatted_results_df['epoch'], y=formatted_results_df['test_precision'], name= 'Testing Precision',\\\n",
    "                         mode='lines+markers', line_color='gold', line_width= 3))\n",
    "fig.add_trace(go.Scatter(x=formatted_results_df['epoch'], y=formatted_results_df['test_recall'], name= 'Testing Recall',\\\n",
    "                         mode='lines+markers', line_color='green', line_width= 3))\n",
    "\n",
    "fig.update_layout(\n",
    "    title=\"Evaluation metrics\",\n",
    "    xaxis_title=\"Epoch\",\n",
    "    font=dict(size=15),\n",
    "    width=1300, \n",
    "    height=600)\n",
    "fig.show()"
   ]
  },
  {
   "source": [
    "## Explainable IA"
   ],
   "cell_type": "markdown",
   "metadata": {}
  },
  {
   "source": [
    "## Single prediction interpretation"
   ],
   "cell_type": "markdown",
   "metadata": {}
  },
  {
   "source": [
    "### Calculate single case attribution"
   ],
   "cell_type": "markdown",
   "metadata": {}
  },
  {
   "cell_type": "code",
   "execution_count": 30,
   "metadata": {},
   "outputs": [],
   "source": [
    "ig = IntegratedGradients(simple_model)\n",
    "\n",
    "attributions, approximation_error = ig.attribute(batch[0][0:1], target = 0, return_convergence_delta = True)"
   ]
  },
  {
   "source": [
    "### Attribution"
   ],
   "cell_type": "markdown",
   "metadata": {}
  },
  {
   "cell_type": "code",
   "execution_count": 31,
   "metadata": {},
   "outputs": [
    {
     "output_type": "stream",
     "name": "stdout",
     "text": [
      "Age       :\t 0.037\nSibSp     :\t-0.419\nParch     :\t 0.048\nFare      :\t 0.008\nPclass_1  :\t-0.013\nPclass_2  :\t 0.012\nPclass_3  :\t-0.014\nSex_female:\t-0.026\nSex_male  :\t-0.038\nEmbarked_C:\t 0.002\nEmbarked_Q:\t-0.003\nEmbarked_S:\t-0.001\n"
     ]
    }
   ],
   "source": [
    "features_names = features_df.columns.tolist()\n",
    "\n",
    "attributions_lst = list(zip(features_names, attributions.numpy().tolist()[0]))\n",
    "\n",
    "for feature in attributions_lst:\n",
    "    print('{:<10}:\\t{:>6.3f}'.format(feature[0], feature[1]))"
   ]
  },
  {
   "cell_type": "code",
   "execution_count": 33,
   "metadata": {},
   "outputs": [
    {
     "output_type": "display_data",
     "data": {
      "application/vnd.plotly.v1+json": {
       "config": {
        "plotlyServerURL": "https://plot.ly"
       },
       "data": [
        {
         "type": "bar",
         "x": [
          "Age",
          "SibSp",
          "Parch",
          "Fare",
          "Pclass_1",
          "Pclass_2",
          "Pclass_3",
          "Sex_female",
          "Sex_male",
          "Embarked_C",
          "Embarked_Q",
          "Embarked_S"
         ],
         "y": [
          0.03687198017899939,
          -0.41869359231235465,
          0.04847246525217892,
          0.008055469772232234,
          -0.013247850499752295,
          0.012201431736327034,
          -0.013661114864335378,
          -0.026019729902457066,
          -0.03769436171046689,
          0.0020263022084663347,
          -0.002970200755642286,
          -0.0008167674571036697
         ]
        }
       ],
       "layout": {
        "font": {
         "size": 15
        },
        "height": 600,
        "template": {
         "data": {
          "bar": [
           {
            "error_x": {
             "color": "#2a3f5f"
            },
            "error_y": {
             "color": "#2a3f5f"
            },
            "marker": {
             "line": {
              "color": "#E5ECF6",
              "width": 0.5
             }
            },
            "type": "bar"
           }
          ],
          "barpolar": [
           {
            "marker": {
             "line": {
              "color": "#E5ECF6",
              "width": 0.5
             }
            },
            "type": "barpolar"
           }
          ],
          "carpet": [
           {
            "aaxis": {
             "endlinecolor": "#2a3f5f",
             "gridcolor": "white",
             "linecolor": "white",
             "minorgridcolor": "white",
             "startlinecolor": "#2a3f5f"
            },
            "baxis": {
             "endlinecolor": "#2a3f5f",
             "gridcolor": "white",
             "linecolor": "white",
             "minorgridcolor": "white",
             "startlinecolor": "#2a3f5f"
            },
            "type": "carpet"
           }
          ],
          "choropleth": [
           {
            "colorbar": {
             "outlinewidth": 0,
             "ticks": ""
            },
            "type": "choropleth"
           }
          ],
          "contour": [
           {
            "colorbar": {
             "outlinewidth": 0,
             "ticks": ""
            },
            "colorscale": [
             [
              0,
              "#0d0887"
             ],
             [
              0.1111111111111111,
              "#46039f"
             ],
             [
              0.2222222222222222,
              "#7201a8"
             ],
             [
              0.3333333333333333,
              "#9c179e"
             ],
             [
              0.4444444444444444,
              "#bd3786"
             ],
             [
              0.5555555555555556,
              "#d8576b"
             ],
             [
              0.6666666666666666,
              "#ed7953"
             ],
             [
              0.7777777777777778,
              "#fb9f3a"
             ],
             [
              0.8888888888888888,
              "#fdca26"
             ],
             [
              1,
              "#f0f921"
             ]
            ],
            "type": "contour"
           }
          ],
          "contourcarpet": [
           {
            "colorbar": {
             "outlinewidth": 0,
             "ticks": ""
            },
            "type": "contourcarpet"
           }
          ],
          "heatmap": [
           {
            "colorbar": {
             "outlinewidth": 0,
             "ticks": ""
            },
            "colorscale": [
             [
              0,
              "#0d0887"
             ],
             [
              0.1111111111111111,
              "#46039f"
             ],
             [
              0.2222222222222222,
              "#7201a8"
             ],
             [
              0.3333333333333333,
              "#9c179e"
             ],
             [
              0.4444444444444444,
              "#bd3786"
             ],
             [
              0.5555555555555556,
              "#d8576b"
             ],
             [
              0.6666666666666666,
              "#ed7953"
             ],
             [
              0.7777777777777778,
              "#fb9f3a"
             ],
             [
              0.8888888888888888,
              "#fdca26"
             ],
             [
              1,
              "#f0f921"
             ]
            ],
            "type": "heatmap"
           }
          ],
          "heatmapgl": [
           {
            "colorbar": {
             "outlinewidth": 0,
             "ticks": ""
            },
            "colorscale": [
             [
              0,
              "#0d0887"
             ],
             [
              0.1111111111111111,
              "#46039f"
             ],
             [
              0.2222222222222222,
              "#7201a8"
             ],
             [
              0.3333333333333333,
              "#9c179e"
             ],
             [
              0.4444444444444444,
              "#bd3786"
             ],
             [
              0.5555555555555556,
              "#d8576b"
             ],
             [
              0.6666666666666666,
              "#ed7953"
             ],
             [
              0.7777777777777778,
              "#fb9f3a"
             ],
             [
              0.8888888888888888,
              "#fdca26"
             ],
             [
              1,
              "#f0f921"
             ]
            ],
            "type": "heatmapgl"
           }
          ],
          "histogram": [
           {
            "marker": {
             "colorbar": {
              "outlinewidth": 0,
              "ticks": ""
             }
            },
            "type": "histogram"
           }
          ],
          "histogram2d": [
           {
            "colorbar": {
             "outlinewidth": 0,
             "ticks": ""
            },
            "colorscale": [
             [
              0,
              "#0d0887"
             ],
             [
              0.1111111111111111,
              "#46039f"
             ],
             [
              0.2222222222222222,
              "#7201a8"
             ],
             [
              0.3333333333333333,
              "#9c179e"
             ],
             [
              0.4444444444444444,
              "#bd3786"
             ],
             [
              0.5555555555555556,
              "#d8576b"
             ],
             [
              0.6666666666666666,
              "#ed7953"
             ],
             [
              0.7777777777777778,
              "#fb9f3a"
             ],
             [
              0.8888888888888888,
              "#fdca26"
             ],
             [
              1,
              "#f0f921"
             ]
            ],
            "type": "histogram2d"
           }
          ],
          "histogram2dcontour": [
           {
            "colorbar": {
             "outlinewidth": 0,
             "ticks": ""
            },
            "colorscale": [
             [
              0,
              "#0d0887"
             ],
             [
              0.1111111111111111,
              "#46039f"
             ],
             [
              0.2222222222222222,
              "#7201a8"
             ],
             [
              0.3333333333333333,
              "#9c179e"
             ],
             [
              0.4444444444444444,
              "#bd3786"
             ],
             [
              0.5555555555555556,
              "#d8576b"
             ],
             [
              0.6666666666666666,
              "#ed7953"
             ],
             [
              0.7777777777777778,
              "#fb9f3a"
             ],
             [
              0.8888888888888888,
              "#fdca26"
             ],
             [
              1,
              "#f0f921"
             ]
            ],
            "type": "histogram2dcontour"
           }
          ],
          "mesh3d": [
           {
            "colorbar": {
             "outlinewidth": 0,
             "ticks": ""
            },
            "type": "mesh3d"
           }
          ],
          "parcoords": [
           {
            "line": {
             "colorbar": {
              "outlinewidth": 0,
              "ticks": ""
             }
            },
            "type": "parcoords"
           }
          ],
          "pie": [
           {
            "automargin": true,
            "type": "pie"
           }
          ],
          "scatter": [
           {
            "marker": {
             "colorbar": {
              "outlinewidth": 0,
              "ticks": ""
             }
            },
            "type": "scatter"
           }
          ],
          "scatter3d": [
           {
            "line": {
             "colorbar": {
              "outlinewidth": 0,
              "ticks": ""
             }
            },
            "marker": {
             "colorbar": {
              "outlinewidth": 0,
              "ticks": ""
             }
            },
            "type": "scatter3d"
           }
          ],
          "scattercarpet": [
           {
            "marker": {
             "colorbar": {
              "outlinewidth": 0,
              "ticks": ""
             }
            },
            "type": "scattercarpet"
           }
          ],
          "scattergeo": [
           {
            "marker": {
             "colorbar": {
              "outlinewidth": 0,
              "ticks": ""
             }
            },
            "type": "scattergeo"
           }
          ],
          "scattergl": [
           {
            "marker": {
             "colorbar": {
              "outlinewidth": 0,
              "ticks": ""
             }
            },
            "type": "scattergl"
           }
          ],
          "scattermapbox": [
           {
            "marker": {
             "colorbar": {
              "outlinewidth": 0,
              "ticks": ""
             }
            },
            "type": "scattermapbox"
           }
          ],
          "scatterpolar": [
           {
            "marker": {
             "colorbar": {
              "outlinewidth": 0,
              "ticks": ""
             }
            },
            "type": "scatterpolar"
           }
          ],
          "scatterpolargl": [
           {
            "marker": {
             "colorbar": {
              "outlinewidth": 0,
              "ticks": ""
             }
            },
            "type": "scatterpolargl"
           }
          ],
          "scatterternary": [
           {
            "marker": {
             "colorbar": {
              "outlinewidth": 0,
              "ticks": ""
             }
            },
            "type": "scatterternary"
           }
          ],
          "surface": [
           {
            "colorbar": {
             "outlinewidth": 0,
             "ticks": ""
            },
            "colorscale": [
             [
              0,
              "#0d0887"
             ],
             [
              0.1111111111111111,
              "#46039f"
             ],
             [
              0.2222222222222222,
              "#7201a8"
             ],
             [
              0.3333333333333333,
              "#9c179e"
             ],
             [
              0.4444444444444444,
              "#bd3786"
             ],
             [
              0.5555555555555556,
              "#d8576b"
             ],
             [
              0.6666666666666666,
              "#ed7953"
             ],
             [
              0.7777777777777778,
              "#fb9f3a"
             ],
             [
              0.8888888888888888,
              "#fdca26"
             ],
             [
              1,
              "#f0f921"
             ]
            ],
            "type": "surface"
           }
          ],
          "table": [
           {
            "cells": {
             "fill": {
              "color": "#EBF0F8"
             },
             "line": {
              "color": "white"
             }
            },
            "header": {
             "fill": {
              "color": "#C8D4E3"
             },
             "line": {
              "color": "white"
             }
            },
            "type": "table"
           }
          ]
         },
         "layout": {
          "annotationdefaults": {
           "arrowcolor": "#2a3f5f",
           "arrowhead": 0,
           "arrowwidth": 1
          },
          "autotypenumbers": "strict",
          "coloraxis": {
           "colorbar": {
            "outlinewidth": 0,
            "ticks": ""
           }
          },
          "colorscale": {
           "diverging": [
            [
             0,
             "#8e0152"
            ],
            [
             0.1,
             "#c51b7d"
            ],
            [
             0.2,
             "#de77ae"
            ],
            [
             0.3,
             "#f1b6da"
            ],
            [
             0.4,
             "#fde0ef"
            ],
            [
             0.5,
             "#f7f7f7"
            ],
            [
             0.6,
             "#e6f5d0"
            ],
            [
             0.7,
             "#b8e186"
            ],
            [
             0.8,
             "#7fbc41"
            ],
            [
             0.9,
             "#4d9221"
            ],
            [
             1,
             "#276419"
            ]
           ],
           "sequential": [
            [
             0,
             "#0d0887"
            ],
            [
             0.1111111111111111,
             "#46039f"
            ],
            [
             0.2222222222222222,
             "#7201a8"
            ],
            [
             0.3333333333333333,
             "#9c179e"
            ],
            [
             0.4444444444444444,
             "#bd3786"
            ],
            [
             0.5555555555555556,
             "#d8576b"
            ],
            [
             0.6666666666666666,
             "#ed7953"
            ],
            [
             0.7777777777777778,
             "#fb9f3a"
            ],
            [
             0.8888888888888888,
             "#fdca26"
            ],
            [
             1,
             "#f0f921"
            ]
           ],
           "sequentialminus": [
            [
             0,
             "#0d0887"
            ],
            [
             0.1111111111111111,
             "#46039f"
            ],
            [
             0.2222222222222222,
             "#7201a8"
            ],
            [
             0.3333333333333333,
             "#9c179e"
            ],
            [
             0.4444444444444444,
             "#bd3786"
            ],
            [
             0.5555555555555556,
             "#d8576b"
            ],
            [
             0.6666666666666666,
             "#ed7953"
            ],
            [
             0.7777777777777778,
             "#fb9f3a"
            ],
            [
             0.8888888888888888,
             "#fdca26"
            ],
            [
             1,
             "#f0f921"
            ]
           ]
          },
          "colorway": [
           "#636efa",
           "#EF553B",
           "#00cc96",
           "#ab63fa",
           "#FFA15A",
           "#19d3f3",
           "#FF6692",
           "#B6E880",
           "#FF97FF",
           "#FECB52"
          ],
          "font": {
           "color": "#2a3f5f"
          },
          "geo": {
           "bgcolor": "white",
           "lakecolor": "white",
           "landcolor": "#E5ECF6",
           "showlakes": true,
           "showland": true,
           "subunitcolor": "white"
          },
          "hoverlabel": {
           "align": "left"
          },
          "hovermode": "closest",
          "mapbox": {
           "style": "light"
          },
          "paper_bgcolor": "white",
          "plot_bgcolor": "#E5ECF6",
          "polar": {
           "angularaxis": {
            "gridcolor": "white",
            "linecolor": "white",
            "ticks": ""
           },
           "bgcolor": "#E5ECF6",
           "radialaxis": {
            "gridcolor": "white",
            "linecolor": "white",
            "ticks": ""
           }
          },
          "scene": {
           "xaxis": {
            "backgroundcolor": "#E5ECF6",
            "gridcolor": "white",
            "gridwidth": 2,
            "linecolor": "white",
            "showbackground": true,
            "ticks": "",
            "zerolinecolor": "white"
           },
           "yaxis": {
            "backgroundcolor": "#E5ECF6",
            "gridcolor": "white",
            "gridwidth": 2,
            "linecolor": "white",
            "showbackground": true,
            "ticks": "",
            "zerolinecolor": "white"
           },
           "zaxis": {
            "backgroundcolor": "#E5ECF6",
            "gridcolor": "white",
            "gridwidth": 2,
            "linecolor": "white",
            "showbackground": true,
            "ticks": "",
            "zerolinecolor": "white"
           }
          },
          "shapedefaults": {
           "line": {
            "color": "#2a3f5f"
           }
          },
          "ternary": {
           "aaxis": {
            "gridcolor": "white",
            "linecolor": "white",
            "ticks": ""
           },
           "baxis": {
            "gridcolor": "white",
            "linecolor": "white",
            "ticks": ""
           },
           "bgcolor": "#E5ECF6",
           "caxis": {
            "gridcolor": "white",
            "linecolor": "white",
            "ticks": ""
           }
          },
          "title": {
           "x": 0.05
          },
          "xaxis": {
           "automargin": true,
           "gridcolor": "white",
           "linecolor": "white",
           "ticks": "",
           "title": {
            "standoff": 15
           },
           "zerolinecolor": "white",
           "zerolinewidth": 2
          },
          "yaxis": {
           "automargin": true,
           "gridcolor": "white",
           "linecolor": "white",
           "ticks": "",
           "title": {
            "standoff": 15
           },
           "zerolinecolor": "white",
           "zerolinewidth": 2
          }
         }
        },
        "title": {
         "text": "Attribution"
        },
        "width": 1300,
        "xaxis": {
         "title": {
          "text": "Features"
         }
        }
       }
      }
     },
     "metadata": {}
    }
   ],
   "source": [
    "fig = go.Figure([go.Bar(x = features_names, y = attributions.numpy().tolist()[0])])\n",
    "\n",
    "fig.update_layout(\n",
    "    title=\"Attribution\",\n",
    "    xaxis_title=\"Features\",\n",
    "    font=dict(size=15),\n",
    "    width=1300, \n",
    "    height=600)\n",
    "\n",
    "fig.show()"
   ]
  }
 ]
}